{
 "cells": [
  {
   "cell_type": "markdown",
   "id": "864cd300",
   "metadata": {},
   "source": [
    "# Import libraries"
   ]
  },
  {
   "cell_type": "code",
   "execution_count": 125,
   "id": "ecff316b",
   "metadata": {},
   "outputs": [],
   "source": [
    "import pandas as pd\n",
    "import math\n",
    "import numpy as np\n",
    "import matplotlib\n",
    "import matplotlib.pyplot as plt\n",
    "import seaborn as sns\n",
    "import warnings\n",
    "import folium\n",
    "warnings.filterwarnings(\"ignore\")"
   ]
  },
  {
   "cell_type": "code",
   "execution_count": 126,
   "id": "ccaf9c8e",
   "metadata": {},
   "outputs": [],
   "source": [
    "def simple_chart(df, x, title = None, hue = None):\n",
    "    plt.figure(figsize = (10, 6))\n",
    "    plt.title(title, fontsize=14)\n",
    "    ax = sns.countplot(x = x, hue = hue, data = df)"
   ]
  },
  {
   "cell_type": "code",
   "execution_count": 127,
   "id": "30be207a",
   "metadata": {},
   "outputs": [],
   "source": [
    "def factor_chart(df, x, y, hue = None):\n",
    "    ax = sns.factorplot(x = x, y = y, data = df, hue = hue, kind = 'box', size=6, aspect = 2)"
   ]
  },
  {
   "cell_type": "code",
   "execution_count": 128,
   "id": "9a634d09",
   "metadata": {},
   "outputs": [],
   "source": [
    "def scatter(df, x, y, hue = None):\n",
    "    plt.figure(figsize = (20, 10))\n",
    "    ax = sns.scatterplot(x = x, y = y, data = df, hue = hue)\n",
    "    plt.show()"
   ]
  },
  {
   "cell_type": "markdown",
   "id": "ee0ef5f3",
   "metadata": {},
   "source": [
    "# Load data into dataframe"
   ]
  },
  {
   "cell_type": "code",
   "execution_count": 129,
   "id": "73ffcb50",
   "metadata": {},
   "outputs": [],
   "source": [
    "df=pd.read_csv('./df_for_sale_riga_11102023.csv')"
   ]
  },
  {
   "cell_type": "code",
   "execution_count": 130,
   "id": "a67250ca",
   "metadata": {},
   "outputs": [
    {
     "data": {
      "text/html": [
       "<div>\n",
       "<style scoped>\n",
       "    .dataframe tbody tr th:only-of-type {\n",
       "        vertical-align: middle;\n",
       "    }\n",
       "\n",
       "    .dataframe tbody tr th {\n",
       "        vertical-align: top;\n",
       "    }\n",
       "\n",
       "    .dataframe thead th {\n",
       "        text-align: right;\n",
       "    }\n",
       "</style>\n",
       "<table border=\"1\" class=\"dataframe\">\n",
       "  <thead>\n",
       "    <tr style=\"text-align: right;\">\n",
       "      <th></th>\n",
       "      <th>rooms</th>\n",
       "      <th>area</th>\n",
       "      <th>price</th>\n",
       "      <th>cur_floor</th>\n",
       "      <th>total_floor</th>\n",
       "      <th>lift</th>\n",
       "      <th>len</th>\n",
       "      <th>lon</th>\n",
       "    </tr>\n",
       "  </thead>\n",
       "  <tbody>\n",
       "    <tr>\n",
       "      <th>count</th>\n",
       "      <td>3357.000000</td>\n",
       "      <td>3357.000000</td>\n",
       "      <td>3.357000e+03</td>\n",
       "      <td>3357.000000</td>\n",
       "      <td>3357.000000</td>\n",
       "      <td>3357.000000</td>\n",
       "      <td>3357.000000</td>\n",
       "      <td>3357.000000</td>\n",
       "    </tr>\n",
       "    <tr>\n",
       "      <th>mean</th>\n",
       "      <td>2.361037</td>\n",
       "      <td>62.406807</td>\n",
       "      <td>9.905900e+04</td>\n",
       "      <td>3.484659</td>\n",
       "      <td>5.975871</td>\n",
       "      <td>0.310098</td>\n",
       "      <td>56.889141</td>\n",
       "      <td>24.101826</td>\n",
       "    </tr>\n",
       "    <tr>\n",
       "      <th>std</th>\n",
       "      <td>1.007189</td>\n",
       "      <td>37.609565</td>\n",
       "      <td>1.010415e+05</td>\n",
       "      <td>2.402228</td>\n",
       "      <td>3.260951</td>\n",
       "      <td>0.462603</td>\n",
       "      <td>1.999979</td>\n",
       "      <td>0.869331</td>\n",
       "    </tr>\n",
       "    <tr>\n",
       "      <th>min</th>\n",
       "      <td>1.000000</td>\n",
       "      <td>12.000000</td>\n",
       "      <td>-1.000000e+00</td>\n",
       "      <td>1.000000</td>\n",
       "      <td>1.000000</td>\n",
       "      <td>0.000000</td>\n",
       "      <td>-1.000000</td>\n",
       "      <td>-1.000000</td>\n",
       "    </tr>\n",
       "    <tr>\n",
       "      <th>25%</th>\n",
       "      <td>2.000000</td>\n",
       "      <td>42.000000</td>\n",
       "      <td>4.250000e+04</td>\n",
       "      <td>2.000000</td>\n",
       "      <td>5.000000</td>\n",
       "      <td>0.000000</td>\n",
       "      <td>56.941877</td>\n",
       "      <td>24.095530</td>\n",
       "    </tr>\n",
       "    <tr>\n",
       "      <th>50%</th>\n",
       "      <td>2.000000</td>\n",
       "      <td>53.000000</td>\n",
       "      <td>6.400000e+04</td>\n",
       "      <td>3.000000</td>\n",
       "      <td>5.000000</td>\n",
       "      <td>0.000000</td>\n",
       "      <td>56.956327</td>\n",
       "      <td>24.131470</td>\n",
       "    </tr>\n",
       "    <tr>\n",
       "      <th>75%</th>\n",
       "      <td>3.000000</td>\n",
       "      <td>72.000000</td>\n",
       "      <td>1.200000e+05</td>\n",
       "      <td>5.000000</td>\n",
       "      <td>7.000000</td>\n",
       "      <td>1.000000</td>\n",
       "      <td>56.968749</td>\n",
       "      <td>24.178205</td>\n",
       "    </tr>\n",
       "    <tr>\n",
       "      <th>max</th>\n",
       "      <td>6.000000</td>\n",
       "      <td>529.000000</td>\n",
       "      <td>1.950000e+06</td>\n",
       "      <td>23.000000</td>\n",
       "      <td>31.000000</td>\n",
       "      <td>1.000000</td>\n",
       "      <td>57.076784</td>\n",
       "      <td>24.322615</td>\n",
       "    </tr>\n",
       "  </tbody>\n",
       "</table>\n",
       "</div>"
      ],
      "text/plain": [
       "             rooms         area         price    cur_floor  total_floor  \\\n",
       "count  3357.000000  3357.000000  3.357000e+03  3357.000000  3357.000000   \n",
       "mean      2.361037    62.406807  9.905900e+04     3.484659     5.975871   \n",
       "std       1.007189    37.609565  1.010415e+05     2.402228     3.260951   \n",
       "min       1.000000    12.000000 -1.000000e+00     1.000000     1.000000   \n",
       "25%       2.000000    42.000000  4.250000e+04     2.000000     5.000000   \n",
       "50%       2.000000    53.000000  6.400000e+04     3.000000     5.000000   \n",
       "75%       3.000000    72.000000  1.200000e+05     5.000000     7.000000   \n",
       "max       6.000000   529.000000  1.950000e+06    23.000000    31.000000   \n",
       "\n",
       "              lift          len          lon  \n",
       "count  3357.000000  3357.000000  3357.000000  \n",
       "mean      0.310098    56.889141    24.101826  \n",
       "std       0.462603     1.999979     0.869331  \n",
       "min       0.000000    -1.000000    -1.000000  \n",
       "25%       0.000000    56.941877    24.095530  \n",
       "50%       0.000000    56.956327    24.131470  \n",
       "75%       1.000000    56.968749    24.178205  \n",
       "max       1.000000    57.076784    24.322615  "
      ]
     },
     "execution_count": 130,
     "metadata": {},
     "output_type": "execute_result"
    }
   ],
   "source": [
    "df.describe()"
   ]
  },
  {
   "cell_type": "code",
   "execution_count": 131,
   "id": "eb18bab6",
   "metadata": {},
   "outputs": [],
   "source": [
    "empty_count=df.isna().sum()"
   ]
  },
  {
   "cell_type": "code",
   "execution_count": 132,
   "id": "31bd1f1a",
   "metadata": {
    "scrolled": true
   },
   "outputs": [
    {
     "name": "stdout",
     "output_type": "stream",
     "text": [
      "district          0\n",
      "data_street       0\n",
      "rooms             0\n",
      "area              0\n",
      "price             0\n",
      "cur_floor         0\n",
      "total_floor       0\n",
      "lift              0\n",
      "seria             0\n",
      "house_type        0\n",
      "facilities     1173\n",
      "len               0\n",
      "lon               0\n",
      "dtype: int64\n"
     ]
    }
   ],
   "source": [
    "print(empty_count)"
   ]
  },
  {
   "cell_type": "markdown",
   "id": "92f80259",
   "metadata": {},
   "source": [
    "# Add variable Price per sq meter"
   ]
  },
  {
   "cell_type": "code",
   "execution_count": 133,
   "id": "d08074e5",
   "metadata": {},
   "outputs": [],
   "source": [
    "df['price_per_sqm']=df['price']/df['area']"
   ]
  },
  {
   "cell_type": "markdown",
   "id": "2ab24e22",
   "metadata": {},
   "source": [
    "# Cap number of floors to total_floors:"
   ]
  },
  {
   "cell_type": "code",
   "execution_count": 134,
   "id": "ceb304ba",
   "metadata": {},
   "outputs": [],
   "source": [
    "df['floor'] = np.where(df['total_floor']<df['cur_floor'], df['total_floor'],df['cur_floor'])"
   ]
  },
  {
   "cell_type": "code",
   "execution_count": 135,
   "id": "75050c97",
   "metadata": {},
   "outputs": [
    {
     "data": {
      "text/plain": [
       "count    3357.000000\n",
       "mean        3.478701\n",
       "std         2.397215\n",
       "min         1.000000\n",
       "25%         2.000000\n",
       "50%         3.000000\n",
       "75%         5.000000\n",
       "max        23.000000\n",
       "Name: floor, dtype: float64"
      ]
     },
     "execution_count": 135,
     "metadata": {},
     "output_type": "execute_result"
    }
   ],
   "source": [
    "df['floor'].describe()"
   ]
  },
  {
   "cell_type": "code",
   "execution_count": 136,
   "id": "fa57cb13",
   "metadata": {},
   "outputs": [
    {
     "name": "stdout",
     "output_type": "stream",
     "text": [
      "district            0\n",
      "data_street         0\n",
      "rooms               0\n",
      "area                0\n",
      "price               0\n",
      "cur_floor           0\n",
      "total_floor         0\n",
      "lift                0\n",
      "seria               0\n",
      "house_type          0\n",
      "facilities       1173\n",
      "len                 0\n",
      "lon                 0\n",
      "price_per_sqm       0\n",
      "floor               0\n",
      "dtype: int64\n"
     ]
    }
   ],
   "source": [
    "empty_count=df.isna().sum()\n",
    "print(empty_count)"
   ]
  },
  {
   "cell_type": "markdown",
   "id": "26180183",
   "metadata": {},
   "source": [
    "# Combine house type"
   ]
  },
  {
   "cell_type": "code",
   "execution_count": 137,
   "id": "cc85638b",
   "metadata": {},
   "outputs": [
    {
     "name": "stdout",
     "output_type": "stream",
     "text": [
      "['Mūra' 'Koka' 'Paneļu' 'Ķieģeļu' 'Ķieģeļu-paneļu' 'Paneļu - ķieģeļu'\n",
      " \"mnu('map',1,1,'/lv/gmap/fTgTeF4QAzt4FD4eFFM=.html?mode=1&c=56.9505946, 24.1984012, 14');return false;\"]\n"
     ]
    }
   ],
   "source": [
    "unique_house_types=df['house_type'].unique()\n",
    "print(unique_house_types)"
   ]
  },
  {
   "cell_type": "code",
   "execution_count": 138,
   "id": "a05d86e0",
   "metadata": {},
   "outputs": [],
   "source": [
    "df=df[df['house_type']!=\"mnu('map',1,1,'/lv/gmap/fTgTeF4QAzt4FD4eFFM=.html?mode=1&c=56.9505946, 24.1984012, 14');return false;\"]"
   ]
  },
  {
   "cell_type": "code",
   "execution_count": 139,
   "id": "72208429",
   "metadata": {},
   "outputs": [],
   "source": [
    "#Consolidate brick, panel, brick-panel, panel-brick in one"
   ]
  },
  {
   "cell_type": "code",
   "execution_count": 140,
   "id": "c932adfc",
   "metadata": {},
   "outputs": [],
   "source": [
    "df['house_type']=df['house_type'].replace(['Ķieģeļu', 'Paneļu', 'Ķieģeļu-paneļu', 'Paneļu - ķieģeļu'], 'Brick-Panel')"
   ]
  },
  {
   "cell_type": "code",
   "execution_count": 141,
   "id": "c56f6ebf",
   "metadata": {},
   "outputs": [
    {
     "name": "stdout",
     "output_type": "stream",
     "text": [
      "['Mūra' 'Koka' 'Brick-Panel']\n"
     ]
    }
   ],
   "source": [
    "unique_house_types=df['house_type'].unique()\n",
    "print(unique_house_types)"
   ]
  },
  {
   "cell_type": "code",
   "execution_count": 142,
   "id": "a22696f0",
   "metadata": {},
   "outputs": [],
   "source": [
    "replace_house_type={'Mūra': 'Masonry','Koka':'Wood'}\n",
    "df=df.replace(replace_house_type)"
   ]
  },
  {
   "cell_type": "code",
   "execution_count": 143,
   "id": "99b04e7e",
   "metadata": {},
   "outputs": [
    {
     "name": "stdout",
     "output_type": "stream",
     "text": [
      "['Masonry' 'Wood' 'Brick-Panel']\n"
     ]
    }
   ],
   "source": [
    "unique_house_types=df['house_type'].unique()\n",
    "print(unique_house_types)"
   ]
  },
  {
   "cell_type": "markdown",
   "id": "979af454",
   "metadata": {},
   "source": [
    "# Combine house seria"
   ]
  },
  {
   "cell_type": "code",
   "execution_count": 144,
   "id": "21e4c120",
   "metadata": {},
   "outputs": [
    {
     "name": "stdout",
     "output_type": "stream",
     "text": [
      "['P. kara' '602.' 'Renov.' '103.' 'Staļina' 'LT proj.' '467.' 'Hrušč.'\n",
      " '119.' 'Jaun.' 'Specpr.' 'M. ģim.' 'Priv. m.' 'Čehu pr.' '104.']\n"
     ]
    }
   ],
   "source": [
    "unique_house_seria=df['seria'].unique()\n",
    "print(unique_house_seria)"
   ]
  },
  {
   "cell_type": "code",
   "execution_count": 145,
   "id": "606f6fb4",
   "metadata": {},
   "outputs": [],
   "source": [
    "Serial_apartments=['103.', 'LT proj.', 'Čehu pr.', 'Hrušč.', '602.', 'M. ģim.', 'Specpr.', '119.', '467.', '104.' ]\n",
    "New_projects=['Jaun.']\n",
    "Private_houses=['Priv. m.']\n",
    "Post_war_appartments=['Staļina']\n",
    "Pre_war_apartments=['P. kara']"
   ]
  },
  {
   "cell_type": "code",
   "execution_count": 146,
   "id": "580e3772",
   "metadata": {},
   "outputs": [],
   "source": [
    "from_values=['103.', 'LT proj.', 'Čehu pr.', 'Hrušč.', '602.', 'M. ģim.', 'Specpr.', '119.', '467.', '104.','Jaun.', 'Priv. m.','Staļina','P. kara', 'Renov.'] \n",
    "to_values=['Serial_apartments','Serial_apartments','Serial_apartments','Serial_apartments','Serial_apartments','Serial_apartments','Serial_apartments','Serial_apartments','Serial_apartments','Serial_apartments','New_projects','Private_houses','Post_war_appartments','Pre_war_apartments', 'Renovated']\n",
    "df['house_seria_general']=df['seria'].map(dict(zip(from_values,to_values)))"
   ]
  },
  {
   "cell_type": "code",
   "execution_count": 147,
   "id": "3e7fd02a",
   "metadata": {},
   "outputs": [
    {
     "name": "stdout",
     "output_type": "stream",
     "text": [
      "['Pre_war_apartments' 'Serial_apartments' 'Renovated'\n",
      " 'Post_war_appartments' 'New_projects' 'Private_houses']\n"
     ]
    }
   ],
   "source": [
    "unique_house_seria_general=df['house_seria_general'].unique()\n",
    "print(unique_house_seria_general)"
   ]
  },
  {
   "cell_type": "code",
   "execution_count": 148,
   "id": "eb4e8f73",
   "metadata": {},
   "outputs": [
    {
     "name": "stdout",
     "output_type": "stream",
     "text": [
      "                              mean         count\n",
      "                     price_per_sqm price_per_sqm\n",
      "house_seria_general                             \n",
      "New_projects           2275.612721           555\n",
      "Post_war_appartments   1278.687509           129\n",
      "Pre_war_apartments     1481.529953           564\n",
      "Private_houses         1297.398383            18\n",
      "Renovated              2204.921937           410\n",
      "Serial_apartments      1039.625063          1680\n"
     ]
    }
   ],
   "source": [
    "pivot_table_house_seria=df.pivot_table(index=[\"house_seria_general\"],values=\"price_per_sqm\",aggfunc=[\"mean\",\"count\"])\n",
    "print(pivot_table_house_seria)"
   ]
  },
  {
   "cell_type": "markdown",
   "id": "dca6ae1b",
   "metadata": {},
   "source": [
    "# Create new variable - Daugava_bank"
   ]
  },
  {
   "cell_type": "code",
   "execution_count": 149,
   "id": "b3111f5c",
   "metadata": {},
   "outputs": [],
   "source": [
    "#Merge districs into two - Right bank and Left bank (Pardaugava). And compare average price per sq meter per house seria."
   ]
  },
  {
   "cell_type": "code",
   "execution_count": 150,
   "id": "14123ff1",
   "metadata": {},
   "outputs": [
    {
     "name": "stdout",
     "output_type": "stream",
     "text": [
      "['centrs' 'Āgenskalns' 'Vecmīlgrāvis' 'Iļģuciems' 'Imanta' 'Mežaparks'\n",
      " 'Ziepniekkalns' 'Bolderāja' 'Teika' 'Mangaļi' 'Ķengarags' 'Krasta r-ns'\n",
      " 'Maskavas priekšpilsēta' 'Purvciems' 'Aplokciems' 'Vecrīga'\n",
      " 'Sarkandaugava' 'Pļavnieki' 'Dārzciems' 'Daugavgrīva' 'Dzegužkalns'\n",
      " 'Torņakalns' 'Mežciems' 'Jugla' 'Šampēteris-Pleskodāle' 'Zolitūde'\n",
      " 'Jaunciems' 'Ķīpsala' 'Bieriņi' 'Katlakalns' 'Čiekurkalns' 'Grīziņkalns'\n",
      " 'Bukulti' 'Berģi' 'Klīversala' 'Cits' 'Voleri' 'Rumbula' 'Šķirotava'\n",
      " 'VEF' 'Dreiliņi' 'Mangaļsala' 'Brekši' 'Vecāķi' 'Dārziņi' 'Zasulauks']\n"
     ]
    }
   ],
   "source": [
    "unique_districts=df['district'].unique()\n",
    "print(unique_districts)"
   ]
  },
  {
   "cell_type": "code",
   "execution_count": 151,
   "id": "5774e944",
   "metadata": {},
   "outputs": [],
   "source": [
    "#centrs and Vecrīga are excluded, as considered not representative"
   ]
  },
  {
   "cell_type": "code",
   "execution_count": 152,
   "id": "46625e8e",
   "metadata": {},
   "outputs": [],
   "source": [
    "Pardaugava_districts=['Dzegužkalns', 'Imanta','Ziepniekkalns', 'Bolderāja','Ķīpsala','Klīversala','Āgenskalns','Ķengarags','Zolitūde','Daugavgrīva' 'Iļģuciems','Torņakalns', 'Šampēteris-Pleskodāle',\n",
    " 'Bieriņi', 'Šķirotava','Zasulauks','Voleri', 'Katlakalns','Kleisti', 'Buļļi','Bišumuiža']\n",
    "\n",
    "right_bank_districts=['Pļavnieki','Purvciems','Teika','centrs','Jugla','Grīziņkalns','Krasta r-ns',\n",
    " 'Mangaļi','Vecmīlgrāvis', 'Mežaparks','Maskavas priekšpilsēta','Mežciems','Dārzciems', 'Čiekurkalns',\n",
    " 'Sarkandaugava', 'Kundziņsala','Jaunciems', 'Vecdaugava','Vecāķi', 'VEF',\n",
    " 'Dreiliņi', 'Berģi', 'Brekši', 'Mangaļsala', 'Bukulti','Aplokciems','Jaunmīlgrāvis']"
   ]
  },
  {
   "cell_type": "code",
   "execution_count": 153,
   "id": "f412398c",
   "metadata": {},
   "outputs": [],
   "source": [
    "df[\"Daugava_bank\"]= df[\"district\"].apply(lambda x:\"Pardaugava\" if x in Pardaugava_districts else \"right_bank\")"
   ]
  },
  {
   "cell_type": "code",
   "execution_count": 154,
   "id": "df8b06b5",
   "metadata": {},
   "outputs": [
    {
     "data": {
      "text/plain": [
       "array([1, 0], dtype=int64)"
      ]
     },
     "execution_count": 154,
     "metadata": {},
     "output_type": "execute_result"
    }
   ],
   "source": [
    "# Make variable Daugava_bank a numemic one\n",
    "mapping={'right_bank':1, 'Pardaugava':0}\n",
    "df['Daugava_bank']=df['Daugava_bank'].map(mapping)\n",
    "df['Daugava_bank'].unique()"
   ]
  },
  {
   "cell_type": "markdown",
   "id": "9886db30",
   "metadata": {},
   "source": [
    "# Add new variable floor/total number of floors"
   ]
  },
  {
   "cell_type": "code",
   "execution_count": 155,
   "id": "a986b6f9",
   "metadata": {},
   "outputs": [
    {
     "data": {
      "text/plain": [
       "0        4 / 6\n",
       "1        1 / 2\n",
       "2        1 / 9\n",
       "3        2 / 2\n",
       "4        9 / 9\n",
       "         ...  \n",
       "3352     2 / 9\n",
       "3353     5 / 5\n",
       "3354    6 / 12\n",
       "3355     1 / 5\n",
       "3356     4 / 4\n",
       "Length: 3356, dtype: object"
      ]
     },
     "execution_count": 155,
     "metadata": {},
     "output_type": "execute_result"
    }
   ],
   "source": [
    "def floor_total(f):\n",
    "    return str(f['cur_floor']) + \" / \" + str(f['total_floor'])\n",
    "floor_total(df.iloc[1])\n",
    "df.apply(floor_total, axis='columns')"
   ]
  },
  {
   "cell_type": "code",
   "execution_count": 156,
   "id": "d37d7da8",
   "metadata": {},
   "outputs": [],
   "source": [
    "df['floor_total'] = df.apply(floor_total, axis='columns')"
   ]
  },
  {
   "cell_type": "markdown",
   "id": "d2777559",
   "metadata": {},
   "source": [
    "# Amend street"
   ]
  },
  {
   "cell_type": "code",
   "execution_count": 157,
   "id": "383df70d",
   "metadata": {},
   "outputs": [],
   "source": [
    "street_rules = [' k-1', ' k-2', ' k1', ' k 1', 'k-1', ' k-3', '-k-3', ' k-4', ' k. 1', 'k5', 'k1', 'k2',' k-6','k-4',', k-5',' k-7','k4',' k-6',' k-5','k3']\n",
    "\n",
    "for n in street_rules:\n",
    "    df['street'] = df[\"data_street\"].apply(lambda x: str(x).replace(n, '').strip())"
   ]
  },
  {
   "cell_type": "code",
   "execution_count": 158,
   "id": "5505d3f5",
   "metadata": {},
   "outputs": [],
   "source": [
    "street_rules2 = [[' g.', ' gatve'],\n",
    "                 ['krastm.', 'krastmala'],\n",
    "                 [' pr.', ' prospekts'],\n",
    "                 ['Pulkv.', 'Pulkveža'],\n",
    "                 ['bulv.', 'bulvāris'],\n",
    "                 ['šķ. l.', 'šķērslīnija'],\n",
    "                 ['šķ l.', 'šķērslīnija'],\n",
    "                 [' l. ', ' līnija '],\n",
    "                 [' d. ', ' dambis '],\n",
    "                 [' g. ', ' gatve '],\n",
    "                 [' lauk.', ' laukums'],\n",
    "                 [' š. ', ' šoseja '],\n",
    "                 [' a', 'a'],\n",
    "                 [' b', 'b']]\n",
    "\n",
    "for n in street_rules2:   \n",
    "    df['street'] = df[\"street\"].apply(lambda x: str(x).replace(n[0], n[1]).strip())"
   ]
  },
  {
   "cell_type": "code",
   "execution_count": 159,
   "id": "a25fee71",
   "metadata": {},
   "outputs": [],
   "source": [
    "def address_name(row):\n",
    "    text = row['street']\n",
    "    indx = 99\n",
    "    if text.count(\" \")==1:\n",
    "        indx = text.find(\" \") \n",
    "    if text.count(\" \")==2:\n",
    "        indx = text.find(\" \",text.find(\" \")+1)\n",
    "    if text.count(\" \")==3:\n",
    "        indx = text.find(\" \", text.find(\" \",text.find(\" \")+1)+1)  \n",
    "    if text.count(\" \")==4:\n",
    "        indx = text.find(\" \",text.find(\" \", text.find(\" \",text.find(\" \")+1)+1) +1)\n",
    "    \n",
    "    return text[:indx]  \n",
    "\n",
    "\n",
    "def address_number(row):\n",
    "    text = row['street']\n",
    "    indx = 99\n",
    "    if text.count(\" \")==1:\n",
    "        indx = text.find(\" \") \n",
    "    if text.count(\" \")==2:\n",
    "        indx = text.find(\" \",text.find(\" \")+1)\n",
    "    if text.count(\" \")==3:\n",
    "        indx = text.find(\" \", text.find(\" \",text.find(\" \")+1)+1)  \n",
    "    if text.count(\" \")==4:\n",
    "        indx = text.find(\" \",text.find(\" \", text.find(\" \",text.find(\" \")+1)+1) +1)\n",
    "    \n",
    "    return text[indx+1:]    "
   ]
  },
  {
   "cell_type": "code",
   "execution_count": 160,
   "id": "04a0bffe",
   "metadata": {},
   "outputs": [],
   "source": [
    "df['street_name']  = df.apply(address_name, axis=1)\n",
    "df['street_number']  = df.apply(address_number, axis=1)"
   ]
  },
  {
   "cell_type": "markdown",
   "id": "f5a59970",
   "metadata": {},
   "source": [
    "# Check for outliers in latitude and longitude"
   ]
  },
  {
   "cell_type": "code",
   "execution_count": 161,
   "id": "aa37552b",
   "metadata": {},
   "outputs": [
    {
     "data": {
      "image/png": "[encoded data removed]",
      "text/plain": [
       "<Figure size 720x432 with 1 Axes>"
      ]
     },
     "metadata": {
      "needs_background": "light"
     },
     "output_type": "display_data"
    }
   ],
   "source": [
    "plt.figure(figsize = (10, 6))\n",
    "ax = sns.scatterplot(x = 'len', y = 'lon', data = df, hue = None, alpha=0.4)\n",
    "plt.show()"
   ]
  },
  {
   "cell_type": "code",
   "execution_count": 162,
   "id": "4d7d43d2",
   "metadata": {},
   "outputs": [],
   "source": [
    "df.to_csv('amended data.csv')"
   ]
  }
 ],
 "metadata": {
  "kernelspec": {
   "display_name": "Python 3",
   "language": "python",
   "name": "python3"
  },
  "language_info": {
   "codemirror_mode": {
    "name": "ipython",
    "version": 3
   },
   "file_extension": ".py",
   "mimetype": "text/x-python",
   "name": "python",
   "nbconvert_exporter": "python",
   "pygments_lexer": "ipython3",
   "version": "3.8.8"
  }
 },
 "nbformat": 4,
 "nbformat_minor": 5
}
