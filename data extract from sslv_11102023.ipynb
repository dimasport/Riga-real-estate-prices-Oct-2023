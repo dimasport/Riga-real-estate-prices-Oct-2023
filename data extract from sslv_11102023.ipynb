{
 "cells": [
  {
   "cell_type": "code",
   "execution_count": 1,
   "id": "9998b3db",
   "metadata": {},
   "outputs": [],
   "source": [
    "import pandas as pd\n",
    "import numpy as np\n",
    "import requests\n",
    "from bs4 import BeautifulSoup as bs"
   ]
  },
  {
   "cell_type": "code",
   "execution_count": 26,
   "id": "99edc17f",
   "metadata": {},
   "outputs": [
    {
     "name": "stdout",
     "output_type": "stream",
     "text": [
      "200\n"
     ]
    }
   ],
   "source": [
    "r = requests.get(URL_TEMPLATE)\n",
    "print(r.status_code)"
   ]
  },
  {
   "cell_type": "code",
   "execution_count": 27,
   "id": "0e30052a",
   "metadata": {},
   "outputs": [],
   "source": [
    "soup = bs(r.text, \"html.parser\")\n",
    "parsed_data = soup.find_all('a', class_='am')"
   ]
  },
  {
   "cell_type": "code",
   "execution_count": 28,
   "id": "fef56c6a",
   "metadata": {},
   "outputs": [
    {
     "data": {
      "text/plain": [
       "[<a class=\"am\" data=\"ayU3QmwlQUFrJUE5JUNBeSU5RnB3biVBRWclQUUlODclODAlOURvdWwlQUY=|8C9y2yNHk\" href=\"/msg/lv/real-estate/flats/riga/agenskalns/egdcd.html\" id=\"dm_52601044\">Īpašnieks pārdod plašu 2-istabu dzīvokli Botāniskā dārza rajonā.</a>,\n",
       " <a class=\"am\" data=\"JThBaSU4NSU4MiVBOCU3QiU5RCVFQSU4QWolODglODUlQTR3JTk5JUExJTkwaCU4RCU4NSVBOHYlOUMlOUUlODlk|Y4TPsFhn\" href=\"/msg/lv/real-estate/flats/riga/vecmilgravis/bxlkol.html\" id=\"dm_53174001\"><b>Pilnībā aprīkots 3 istabu dzīvoklis ar lodžiju klusā, zaļā apkai</b></a>]"
      ]
     },
     "execution_count": 28,
     "metadata": {},
     "output_type": "execute_result"
    }
   ],
   "source": [
    "parsed_data[:2]"
   ]
  },
  {
   "cell_type": "code",
   "execution_count": 29,
   "id": "ab3aa9a0",
   "metadata": {},
   "outputs": [
    {
     "data": {
      "text/plain": [
       "'/msg/lv/real-estate/flats/riga/agenskalns/egdcd.html'"
      ]
     },
     "execution_count": 29,
     "metadata": {},
     "output_type": "execute_result"
    }
   ],
   "source": [
    "parsed_data[0].get('href')"
   ]
  },
  {
   "cell_type": "code",
   "execution_count": 30,
   "id": "d86f68c8",
   "metadata": {},
   "outputs": [],
   "source": [
    "def get_link(link, time_sleep, page_num):\n",
    "    \n",
    "    time.sleep(time_sleep)\n",
    "    link = link + 'page' + str(page_num) + '.html'\n",
    "    r = requests.get(link)\n",
    "    \n",
    "    if r.status_code!=200:\n",
    "        return \n",
    "    \n",
    "    soup = bs(r.text, \"html.parser\")\n",
    "    parsed_data = soup.find_all('a', class_='am')\n",
    "    \n",
    "    pars_links = []\n",
    "    \n",
    "    for data in parsed_data:\n",
    "        pars_links.append(data.get('href'))\n",
    "        \n",
    "    return pars_links"
   ]
  },
  {
   "cell_type": "code",
   "execution_count": 52,
   "id": "81b83dda",
   "metadata": {},
   "outputs": [],
   "source": [
    "link_array = []\n",
    "URL_TEMPLATE = \"https://www.ss.lv/lv/real-estate/flats/riga/all/sell/\""
   ]
  },
  {
   "cell_type": "code",
   "execution_count": 62,
   "id": "204d4bad",
   "metadata": {},
   "outputs": [
    {
     "data": {
      "application/vnd.jupyter.widget-view+json": {
       "model_id": "5211e4a7e0ba4227a20f46ed6aac29d1",
       "version_major": 2,
       "version_minor": 0
      },
      "text/plain": [
       "  0%|          | 0/113 [00:00<?, ?it/s]"
      ]
     },
     "metadata": {},
     "output_type": "display_data"
    }
   ],
   "source": [
    "for i in tqdm(range(1,114)):\n",
    "    link_array = link_array + get_link(URL_TEMPLATE, 1, i)"
   ]
  },
  {
   "cell_type": "code",
   "execution_count": 54,
   "id": "14e1a642",
   "metadata": {},
   "outputs": [
    {
     "data": {
      "text/plain": [
       "['/msg/lv/real-estate/flats/riga/centre/aepxp.html',\n",
       " '/msg/lv/real-estate/flats/riga/agenskalns/egdcd.html',\n",
       " '/msg/lv/real-estate/flats/riga/vecmilgravis/bxlkol.html',\n",
       " '/msg/lv/real-estate/flats/riga/ilguciems/cnxbj.html',\n",
       " '/msg/lv/real-estate/flats/riga/imanta/ajkmm.html',\n",
       " '/msg/lv/real-estate/flats/riga/mezhapark/becpke.html',\n",
       " '/msg/lv/real-estate/flats/riga/ziepniekkalns/akmdm.html',\n",
       " '/msg/lv/real-estate/flats/riga/bolderaya/cioko.html',\n",
       " '/msg/lv/real-estate/flats/riga/teika/eicjk.html',\n",
       " '/msg/lv/real-estate/flats/riga/teika/edgme.html']"
      ]
     },
     "execution_count": 54,
     "metadata": {},
     "output_type": "execute_result"
    }
   ],
   "source": [
    "link_array[:10]"
   ]
  },
  {
   "cell_type": "code",
   "execution_count": 64,
   "id": "7da86bc4",
   "metadata": {},
   "outputs": [],
   "source": [
    "# обратите внимание, от нашего URL остался только домен, остальное мы будет добавлять из сохраненных ссылок\n",
    "URL_TEMPLATE = \"https://www.ss.lv\""
   ]
  },
  {
   "cell_type": "code",
   "execution_count": 63,
   "id": "c1d04cdb",
   "metadata": {},
   "outputs": [
    {
     "data": {
      "text/plain": [
       "9720"
      ]
     },
     "execution_count": 63,
     "metadata": {},
     "output_type": "execute_result"
    }
   ],
   "source": [
    "len(link_array)"
   ]
  },
  {
   "cell_type": "code",
   "execution_count": 65,
   "id": "54bb3e0a",
   "metadata": {},
   "outputs": [],
   "source": [
    "URL_TEMPLATE += link_array[0]"
   ]
  },
  {
   "cell_type": "code",
   "execution_count": 66,
   "id": "b6f7ef68",
   "metadata": {},
   "outputs": [
    {
     "name": "stdout",
     "output_type": "stream",
     "text": [
      "Error status 200\n"
     ]
    }
   ],
   "source": [
    "r = requests.get(URL_TEMPLATE)\n",
    "print('Error status', r.status_code)"
   ]
  },
  {
   "cell_type": "code",
   "execution_count": 67,
   "id": "ba2f8ddf",
   "metadata": {},
   "outputs": [],
   "source": [
    "soup = bs(r.text, \"html.parser\")\n",
    "# parsed_data = soup.find_all('td', class_='msga2-o pp6')"
   ]
  },
  {
   "cell_type": "code",
   "execution_count": 68,
   "id": "be8eeae0",
   "metadata": {},
   "outputs": [
    {
     "data": {
      "text/plain": [
       "[<td class=\"ads_opt\" id=\"tdo_20\" nowrap=\"\"><b>Rīga</b></td>,\n",
       " <td class=\"ads_opt\" id=\"tdo_856\" nowrap=\"\"><b>centrs</b></td>,\n",
       " <td class=\"ads_opt\" id=\"tdo_11\" nowrap=\"\"><b>Matīsa 41</b> <span class=\"td15\">[<a class=\"ads_opt_link_map\" href=\"javascript:;\" id=\"mnu_map\" onclick=\"mnu('map',1,1,'/lv/gmap/fTgTeF4QAzt4FD4eFFM=.html?mode=1&amp;c=56.9558095, 24.1363359, 14');return false;\">Karte</a>]</span></td>,\n",
       " <td class=\"ads_opt\" id=\"tdo_1\" nowrap=\"\">4</td>,\n",
       " <td class=\"ads_opt\" id=\"tdo_3\" nowrap=\"\">100 m²</td>,\n",
       " <td class=\"ads_opt\" id=\"tdo_4\" nowrap=\"\">4/6</td>,\n",
       " <td class=\"ads_opt\" id=\"tdo_6\" nowrap=\"\">P. kara</td>,\n",
       " <td class=\"ads_opt\" id=\"tdo_2\" nowrap=\"\">Mūra</td>]"
      ]
     },
     "execution_count": 68,
     "metadata": {},
     "output_type": "execute_result"
    }
   ],
   "source": [
    "parsed_data = soup.find_all('td', class_='ads_opt')\n",
    "parsed_data"
   ]
  },
  {
   "cell_type": "code",
   "execution_count": 69,
   "id": "1130aeff",
   "metadata": {},
   "outputs": [
    {
     "name": "stdout",
     "output_type": "stream",
     "text": [
      "Rīga\n",
      "centrs\n",
      "Matīsa 41| |[|Karte|]\n",
      "4\n",
      "100 m²\n",
      "4/6\n",
      "P. kara\n",
      "Mūra\n"
     ]
    }
   ],
   "source": [
    "# все данные получили\n",
    "for i in parsed_data:\n",
    "    print(i.get_text(\"|\"))"
   ]
  },
  {
   "cell_type": "code",
   "execution_count": 70,
   "id": "fcd3ff6f",
   "metadata": {},
   "outputs": [
    {
     "name": "stdout",
     "output_type": "stream",
     "text": [
      "mnu('map',1,1,'/lv/gmap/fTgTeF4QAzt4FD4eFFM=.html?mode=1&c=56.9558095, 24.1363359, 14');return false;\n"
     ]
    }
   ],
   "source": [
    "# теперь попробуем достать карту \n",
    "parsed_map = soup.find_all('a', class_='ads_opt_link_map')\n",
    "print(parsed_map[0]['onclick'])"
   ]
  },
  {
   "cell_type": "code",
   "execution_count": 71,
   "id": "64387bff",
   "metadata": {},
   "outputs": [
    {
     "data": {
      "text/plain": [
       "'\\n | \\r\\n\\r\\nPārdodu plašu un gaišu dzīvokli. Pārdomāts un ērts plānojums: | \\r\\n - viesistaba (apvienota ar virtuves zonu),  | \\r\\n- divas izolētas guļamistabas,  | \\r\\n- izolēts kabinets (vai trešā guļamistaba),  | \\r\\n- plašs gaitenis,  | \\r\\n- plaša un ērta vannas istaba ar vannu, papildus vēl atsevišķa wc,  | \\r\\n- neliela noliktavas telpa.  | \\r\\nVirtuvē visa nepieciešamā sadzīves tehnika (keramiskā plīts, cepeškrāsns, ledusskapis, mikroviļņu krāsns, trauku mazgājamā mašīna, tvaiku nosūcējs).  | \\r\\nDzīvoklis ar lielisku skaņas izolāciju, ļoti silts, augstie griesti. Dzīvokļa logi vērsti gan uz ielas pusi, gan iekšpagalmu. Kāpņu telpa ar durvju kodu. Bez lifta.  | \\r\\nDzīvoklim ir pilsētas komunikācijas - ūdens, kanalizācija un centrālā apkure. Dzīvoklī mainīta elektroinstalācija, ūdens caurules, radiatori.  | \\r\\nĒrta infrastruktūra un sabiedriskā transporta kustība. Tuvumā Bērnu pasaule, Ziedoņdārzs, veikali, aptiekas, skolas.  | \\r\\nIr iespēja pagalmā novietot automašīnu. Apsaimnieko dzīvokļu īpašnieku biedrība. | Pilsēta: | Rīga | Rajons: | centrs | Iela: | Matīsa 41 |   | [ | Karte | ] | Istabas: | 4 | Platība: | 100 m² | Stāvs: | 4/6 | Sērija: | P. kara | Mājas tips: | Mūra | Cena: | 190 000 € (1 900 €/m²)'"
      ]
     },
     "execution_count": 71,
     "metadata": {},
     "output_type": "execute_result"
    }
   ],
   "source": [
    "# и тогда достанем и описание апартаментов \n",
    "parsed_text = soup.find_all('div', id='msg_div_msg')\n",
    "parsed_text[0].get_text(\" | \")\n",
    "\n",
    "# обратите внимание, что в контейнере id=msg_div_msg захватывает и данные по атрибутам которые мы уже взяли, \n",
    "# это связано с принципом вложенности, в данном контейнере и находяться наши теги td"
   ]
  },
  {
   "cell_type": "code",
   "execution_count": 72,
   "id": "a35f00c6",
   "metadata": {},
   "outputs": [
    {
     "data": {
      "text/plain": [
       "'190 000 € (1 900 €/m²)'"
      ]
     },
     "execution_count": 72,
     "metadata": {},
     "output_type": "execute_result"
    }
   ],
   "source": [
    "# и как же без цены\n",
    "parsed_price = soup.find_all('td', class_='ads_price')\n",
    "parsed_price[0].get_text()"
   ]
  },
  {
   "cell_type": "code",
   "execution_count": 73,
   "id": "a1f56208",
   "metadata": {},
   "outputs": [],
   "source": [
    "# по традиции что выполняется больше 1го раза мы пишем в функцию. \n",
    "# напишем функцию в которую мы будем передавать ссылку. а все данные в ввиде массива будут приходить ответом "
   ]
  },
  {
   "cell_type": "code",
   "execution_count": 74,
   "id": "8b21a2d4",
   "metadata": {},
   "outputs": [],
   "source": [
    "def get_data_link(url, time_sleep):\n",
    "    \n",
    "    page_array = []\n",
    "    time.sleep(time_sleep)\n",
    "    \n",
    "    # добавляем к существующему домену\n",
    "    link = \"https://www.ss.lv\"\n",
    "    link += url\n",
    "    \n",
    "    r = requests.get(link)\n",
    "    if r.status_code!=200:\n",
    "        return \n",
    "    \n",
    "    soup = bs(r.text, \"html.parser\")\n",
    "        \n",
    "    # данные \n",
    "    parsed_data = soup.find_all('td', class_='ads_opt')   \n",
    "    # координаты\n",
    "    parsed_map = soup.find_all('a', class_='ads_opt_link_map')   \n",
    "        \n",
    "    # цена\n",
    "    parsed_price = soup.find_all('td', class_='ads_price')    \n",
    "    # описание \n",
    "    parsed_text = soup.find_all('div', id='msg_div_msg')\n",
    "    \n",
    "    \n",
    "    for data in parsed_data:\n",
    "        page_array.append(data.get_text(\"|\"))\n",
    "\n",
    "    if len(parsed_map)==1:\n",
    "        page_array.append(parsed_map[0]['onclick'])\n",
    "    else:\n",
    "        page_array.append('')\n",
    "    \n",
    "    page_array.append(parsed_price[0].get_text())       \n",
    "    page_array.append(parsed_text[0].get_text(\" | \"))\n",
    "    \n",
    "    return page_array"
   ]
  },
  {
   "cell_type": "code",
   "execution_count": 49,
   "id": "3ac5001c",
   "metadata": {},
   "outputs": [],
   "source": [
    "#data_array = []\n",
    "\n",
    "#data_array.append(get_data_link(link_array[447], 1))"
   ]
  },
  {
   "cell_type": "code",
   "execution_count": 75,
   "id": "45c5f6c1",
   "metadata": {},
   "outputs": [
    {
     "data": {
      "text/plain": [
       "[['Rīga',\n",
       "  'centrs',\n",
       "  'Čaka 134| |[|Karte|]',\n",
       "  '2',\n",
       "  '76 m²',\n",
       "  '4/6/lifts',\n",
       "  'Jaun.',\n",
       "  'Mūra',\n",
       "  'Lodžija, Parkošanas vieta',\n",
       "  \"mnu('map',1,1,'/lv/gmap/fTgTeF4QAzt4FD4eFFM=.html?mode=1&c=56.9617433, 24.1469984, 14');return false;\",\n",
       "  '170 000 € (2 236.84 €/m²)',\n",
       "  '\\n | \\r\\n\\r\\nPiedāvājam iegādāties plašu 2 istabu dzīvokli ar āra terasi, 2018. gadā būvētā jaunā projekta ēkā \\'\"Aizkulises\". Ēka ar interesantu, mūsdienīgu arhitektūru, atrodas tālajā centrā, netālu no Grīziņkalna. Dzīvoklis ar pilnu apdari un kvalitatīvu remontu ir izvietots ēkas 4 stāvā. Tas tiek pārdots ar visām mēbelēm, iekārtām un sadzīves tehniku. Pēc plānojuma - plašs gaitenis ar garderobes skapi, vannas istaba ar visu nepieciešamo, viesistaba ar virtuves zonu, guļamistaba ar plašu garderobes telpu. Viesistabu no virtuves zonas iespējams atdalīt ar bīdāmu stikla sienu. Kopējā dzīvokļa platība ir 75.7 m2, tajā skaitā ārā terase 11.7 m2. Zemi komunālie maksājumi, siltuma skaitītāji katram dzīvoklim, apkures radiatori ar termoregulatoriem. Visas mēbeles, iekārtas un sadzīves tehnika ir kvalitatīvas un nekad nav lietotas, tās ir ietvertas dzīvokļa cenā. Kopā ar dzīvokli par papildus cenu pārdodas pazemes autostāvvieta. Autostāvvietas cena - 16 000 EUR. Mājā ir lifts, videonovērošana, centralizēta ventilācijas sistēma un neliels iekšpagalms.  | \\r\\nПредлагаем на продажу просторную 2-комнатную квартиру с открытой террасой, в доме нового проекта, 2018 года постройки. Здание с интересной современной архитектурой находится в дальнем центре, недалеко от Гризинькалнса. Квартира полностью меблирована и с качественным ремонтом, расположена на 4 этаже дома. Продается со всей мебелью, техникой и бытовим оборудованием. По плану - просторная прихожая с гардеробным шкафом, санузел, гостиная с кухонной зоной, спальня с гардеробной. Гостиную можно отделить от кухонной зоны раздвижной стеклянной стеной. Общая площадь квартиры 75, 7 м2, в том числе открытая терраса 11, 7 м2. Низкие коммунальные платежи, счетчики тепла на каждую квартиру, радиаторы отопления с терморегуляторами. Вся мебель, техника и бытовая техника высокого качества и не разу не использовались, входят в стоимость квартиры. Вместе с квартирой за отдельную плату продается подземный паркинг. Стоимость парковки - 16 000 евро. В доме есть лифт, видеонаблюдение, централизованная система вентиляции и небольшой внутренний двор. | Pilsēta: | Rīga | Rajons: | centrs | Iela: | Čaka 134 |   | [ | Karte | ] | Istabas: | 2 | Platība: | 76 m² | Stāvs: | 4/6/lifts | Sērija: | Jaun. | Mājas tips: | Mūra | Ērtības: | Lodžija, Parkošanas vieta | Cena: | 170 000 € (2 236.84 €/m²)']]"
      ]
     },
     "execution_count": 75,
     "metadata": {},
     "output_type": "execute_result"
    }
   ],
   "source": [
    "data_array"
   ]
  },
  {
   "cell_type": "code",
   "execution_count": 76,
   "id": "7050612a",
   "metadata": {},
   "outputs": [
    {
     "data": {
      "application/vnd.jupyter.widget-view+json": {
       "model_id": "bbf66451cced499cb4bc586332079f6c",
       "version_major": 2,
       "version_minor": 0
      },
      "text/plain": [
       "  0%|          | 0/9720 [00:00<?, ?it/s]"
      ]
     },
     "metadata": {},
     "output_type": "display_data"
    }
   ],
   "source": [
    "# запишем все данные \n",
    "data_array = []\n",
    "\n",
    "for links in tqdm(link_array):\n",
    "    # у нас будет 1470 запросов. довольно много, иногда лучше увеличить время ожидания, чем поймать бан \n",
    "    # в нашем случае парсинг + выгрузка (с тайм аутом) занимают ~1,8 сек, этого обычно достаточно достаточно\n",
    "    # из опыта могу сказать что в среднем устанавливают до 500 итераций в минуту или 8.3 в секунду\n",
    "    data_array.append(get_data_link(links, 0.25))"
   ]
  },
  {
   "cell_type": "code",
   "execution_count": 77,
   "id": "311c5759",
   "metadata": {},
   "outputs": [
    {
     "data": {
      "text/plain": [
       "9720"
      ]
     },
     "execution_count": 77,
     "metadata": {},
     "output_type": "execute_result"
    }
   ],
   "source": [
    "len(data_array)"
   ]
  },
  {
   "cell_type": "code",
   "execution_count": 79,
   "id": "31754913",
   "metadata": {},
   "outputs": [],
   "source": [
    "# в части данных присутсвует дополнительное поле \"удобства\", добавим строку для формирования df \n",
    "# в части данных присутсвует дополнительное поле \"Kadastra numurs\", добавим строку для формирования df \n",
    "data_array_upd = []\n",
    "for i in data_array:\n",
    "    if len(i)==11:\n",
    "        i.insert(8, '')\n",
    "    if len(i)==12:\n",
    "        i.insert(8, '')\n",
    "    data_array_upd.append(i)\n",
    "    \n",
    "data_array_upd_1 = []\n",
    "for i in data_array_upd:\n",
    "    if len(i)==12:\n",
    "        i.insert(8, '')\n",
    "    data_array_upd_1.append(i)"
   ]
  },
  {
   "cell_type": "code",
   "execution_count": 80,
   "id": "360f57e8",
   "metadata": {},
   "outputs": [],
   "source": [
    "data_array_upd=data_array_upd_1"
   ]
  },
  {
   "cell_type": "code",
   "execution_count": 81,
   "id": "48d6e3ff",
   "metadata": {},
   "outputs": [],
   "source": [
    "df = pd.DataFrame(data_array_upd, columns=['city', 'district','street','rooms','area','floor','seria','house_type','kadastr_numb','facilities', 'map','price','all_data'])"
   ]
  },
  {
   "cell_type": "code",
   "execution_count": 82,
   "id": "3f0d0803",
   "metadata": {},
   "outputs": [
    {
     "data": {
      "text/html": [
       "<div>\n",
       "<style scoped>\n",
       "    .dataframe tbody tr th:only-of-type {\n",
       "        vertical-align: middle;\n",
       "    }\n",
       "\n",
       "    .dataframe tbody tr th {\n",
       "        vertical-align: top;\n",
       "    }\n",
       "\n",
       "    .dataframe thead th {\n",
       "        text-align: right;\n",
       "    }\n",
       "</style>\n",
       "<table border=\"1\" class=\"dataframe\">\n",
       "  <thead>\n",
       "    <tr style=\"text-align: right;\">\n",
       "      <th></th>\n",
       "      <th>city</th>\n",
       "      <th>district</th>\n",
       "      <th>street</th>\n",
       "      <th>rooms</th>\n",
       "      <th>area</th>\n",
       "      <th>floor</th>\n",
       "      <th>seria</th>\n",
       "      <th>house_type</th>\n",
       "      <th>kadastr_numb</th>\n",
       "      <th>facilities</th>\n",
       "      <th>map</th>\n",
       "      <th>price</th>\n",
       "      <th>all_data</th>\n",
       "    </tr>\n",
       "  </thead>\n",
       "  <tbody>\n",
       "    <tr>\n",
       "      <th>8709</th>\n",
       "      <td>Rīga</td>\n",
       "      <td>Iļģuciems</td>\n",
       "      <td>Baltā 11 k-1| |[|Karte|]</td>\n",
       "      <td>2</td>\n",
       "      <td>48 m²</td>\n",
       "      <td>1/3</td>\n",
       "      <td>Hrušč.</td>\n",
       "      <td>Ķieģeļu</td>\n",
       "      <td></td>\n",
       "      <td>Parkošanas vieta</td>\n",
       "      <td>mnu('map',1,1,'/lv/gmap/fTgTeF4QAzt4FD4eFFM=.h...</td>\n",
       "      <td>38 350 € (798.96 €/m²)</td>\n",
       "      <td>\\n | \\r\\n\\r\\nPārdošanā nonācis divu istabu dzī...</td>\n",
       "    </tr>\n",
       "    <tr>\n",
       "      <th>7284</th>\n",
       "      <td>Rīga</td>\n",
       "      <td>Āgenskalns</td>\n",
       "      <td>Mērsraga 9a| |[|Karte|]</td>\n",
       "      <td>2</td>\n",
       "      <td>59 m²</td>\n",
       "      <td>2/3</td>\n",
       "      <td>Renov.</td>\n",
       "      <td>Mūra</td>\n",
       "      <td></td>\n",
       "      <td></td>\n",
       "      <td>mnu('map',1,1,'/lv/gmap/fTgTeF4QAzt4FD4eFFM=.h...</td>\n",
       "      <td>92 108 € (1 561.15 €/m²)</td>\n",
       "      <td>\\n | \\r\\n\\r\\nĪpašnieks pārdod 2-istabu dzīvokl...</td>\n",
       "    </tr>\n",
       "  </tbody>\n",
       "</table>\n",
       "</div>"
      ],
      "text/plain": [
       "      city    district                    street rooms   area floor   seria  \\\n",
       "8709  Rīga   Iļģuciems  Baltā 11 k-1| |[|Karte|]     2  48 m²   1/3  Hrušč.   \n",
       "7284  Rīga  Āgenskalns   Mērsraga 9a| |[|Karte|]     2  59 m²   2/3  Renov.   \n",
       "\n",
       "     house_type kadastr_numb        facilities  \\\n",
       "8709    Ķieģeļu               Parkošanas vieta   \n",
       "7284       Mūra                                  \n",
       "\n",
       "                                                    map  \\\n",
       "8709  mnu('map',1,1,'/lv/gmap/fTgTeF4QAzt4FD4eFFM=.h...   \n",
       "7284  mnu('map',1,1,'/lv/gmap/fTgTeF4QAzt4FD4eFFM=.h...   \n",
       "\n",
       "                         price  \\\n",
       "8709    38 350 € (798.96 €/m²)   \n",
       "7284  92 108 € (1 561.15 €/m²)   \n",
       "\n",
       "                                               all_data  \n",
       "8709  \\n | \\r\\n\\r\\nPārdošanā nonācis divu istabu dzī...  \n",
       "7284  \\n | \\r\\n\\r\\nĪpašnieks pārdod 2-istabu dzīvokl...  "
      ]
     },
     "execution_count": 82,
     "metadata": {},
     "output_type": "execute_result"
    }
   ],
   "source": [
    "df.sample(2)"
   ]
  },
  {
   "cell_type": "code",
   "execution_count": null,
   "id": "a9980a13",
   "metadata": {},
   "outputs": [],
   "source": [
    "# преступим к очистке данных"
   ]
  },
  {
   "cell_type": "code",
   "execution_count": 83,
   "id": "c9f14486",
   "metadata": {},
   "outputs": [
    {
     "data": {
      "text/plain": [
       "array(['Rīga'], dtype=object)"
      ]
     },
     "execution_count": 83,
     "metadata": {},
     "output_type": "execute_result"
    }
   ],
   "source": [
    "df['city'].unique()"
   ]
  },
  {
   "cell_type": "code",
   "execution_count": 84,
   "id": "f65869a9",
   "metadata": {},
   "outputs": [
    {
     "data": {
      "text/plain": [
       "array(['centrs', 'Āgenskalns', 'Vecmīlgrāvis', 'Iļģuciems', 'Imanta',\n",
       "       'Mežaparks', 'Ziepniekkalns', 'Bolderāja', 'Teika', 'Mangaļi',\n",
       "       'Ķengarags', 'Krasta r-ns', 'Maskavas priekšpilsēta', 'Purvciems',\n",
       "       'Aplokciems', 'Vecrīga', 'Sarkandaugava', 'Pļavnieki', 'Dārzciems',\n",
       "       'Daugavgrīva', 'Dzegužkalns', 'Torņakalns', 'Mežciems', 'Jugla',\n",
       "       'Šampēteris-Pleskodāle', 'Zolitūde', 'Jaunciems', 'Ķīpsala',\n",
       "       'Bieriņi', 'Katlakalns', 'Čiekurkalns', 'Grīziņkalns', 'Bukulti',\n",
       "       'Berģi', 'Klīversala', 'Cits', 'Voleri', 'Rumbula', 'Šķirotava',\n",
       "       'VEF', 'Dreiliņi', 'Mangaļsala', 'Brekši', 'Vecāķi', 'Dārziņi',\n",
       "       'Zasulauks'], dtype=object)"
      ]
     },
     "execution_count": 84,
     "metadata": {},
     "output_type": "execute_result"
    }
   ],
   "source": [
    "df['district'].unique()"
   ]
  },
  {
   "cell_type": "code",
   "execution_count": 85,
   "id": "32318529",
   "metadata": {},
   "outputs": [],
   "source": [
    "df[['data_street', 'map_link']] = df['street'].str.split(pat='|', n=1 , expand=True )"
   ]
  },
  {
   "cell_type": "code",
   "execution_count": 86,
   "id": "09acca63",
   "metadata": {},
   "outputs": [],
   "source": [
    "df = df.drop(['city','map_link','street','kadastr_numb'], axis=1)"
   ]
  },
  {
   "cell_type": "code",
   "execution_count": 87,
   "id": "30da100b",
   "metadata": {},
   "outputs": [],
   "source": [
    "df[['cur_floor', 'max_floor']] = df['floor'].str.split(pat='/', n=1 , expand=True )"
   ]
  },
  {
   "cell_type": "code",
   "execution_count": 88,
   "id": "d443770f",
   "metadata": {},
   "outputs": [],
   "source": [
    "df = df.drop(['floor'], axis=1)"
   ]
  },
  {
   "cell_type": "code",
   "execution_count": 93,
   "id": "5e75b189",
   "metadata": {},
   "outputs": [],
   "source": [
    "df.to_excel('df.xlsx', index=False)"
   ]
  },
  {
   "cell_type": "code",
   "execution_count": 96,
   "id": "70ddf1f8",
   "metadata": {},
   "outputs": [],
   "source": [
    "df['map']=df['map'].fillna('-1')"
   ]
  },
  {
   "cell_type": "code",
   "execution_count": 97,
   "id": "6ef9f059",
   "metadata": {},
   "outputs": [],
   "source": [
    "def get_cord(row):\n",
    "    # ищем стартовую точку \n",
    "    point_start = row['map'].find('c=') + 2\n",
    "    \n",
    "    first_coma = row['map'][point_start:].find(',') + 1\n",
    "\n",
    "    second_coma = row['map'][point_start+first_coma:].find(',')\n",
    "    \n",
    "    cord = row['map'][point_start:point_start+first_coma+second_coma]\n",
    "    \n",
    "    return cord    "
   ]
  },
  {
   "cell_type": "code",
   "execution_count": 98,
   "id": "a8fa6b3e",
   "metadata": {},
   "outputs": [],
   "source": [
    "df['cord_map'] = df.apply(get_cord, axis=1)"
   ]
  },
  {
   "cell_type": "code",
   "execution_count": 99,
   "id": "cb41e91b",
   "metadata": {},
   "outputs": [],
   "source": [
    "df[['len', 'lon']] = df['cord_map'].str.split(pat=',', n=1 , expand=True )\n",
    "df = df.drop(['cord_map'], axis=1)\n",
    "df = df.drop(['map'], axis=1)"
   ]
  },
  {
   "cell_type": "code",
   "execution_count": 100,
   "id": "aa04170d",
   "metadata": {},
   "outputs": [],
   "source": [
    "df['area'] = df['area'].apply(lambda x: x.replace(' m²',''))"
   ]
  },
  {
   "cell_type": "code",
   "execution_count": 101,
   "id": "e4d3a8cb",
   "metadata": {},
   "outputs": [],
   "source": [
    "df[['price_eur', 'else_price']] = df['price'].str.split(pat='(', n=1 , expand=True )"
   ]
  },
  {
   "cell_type": "code",
   "execution_count": 102,
   "id": "7c5e37c8",
   "metadata": {},
   "outputs": [],
   "source": [
    "df = df.drop(['price','else_price'], axis=1)"
   ]
  },
  {
   "cell_type": "code",
   "execution_count": 103,
   "id": "e3d68aa8",
   "metadata": {},
   "outputs": [
    {
     "data": {
      "text/plain": [
       "array(['6', '2', '9/lifts', '5', '3', '4', '7/lifts', '14/lifts', '7',\n",
       "       '6/lifts', '11/lifts', '16/lifts', '5/lifts', '10/lifts',\n",
       "       '13/lifts', '1', '18/lifts', '9', '8/lifts', '12/lifts', '12',\n",
       "       '23/lifts', '24/lifts', '4/lifts', '16', '21/lifts', '22/lifts',\n",
       "       '2/lifts', '10', '25/lifts', '23', '13', '8', '15/lifts', '22',\n",
       "       '1/lifts', '24', '3/lifts', '18', '30/lifts', '11', '19/lifts',\n",
       "       '31/lifts', '14'], dtype=object)"
      ]
     },
     "execution_count": 103,
     "metadata": {},
     "output_type": "execute_result"
    }
   ],
   "source": [
    "df['max_floor'].unique()"
   ]
  },
  {
   "cell_type": "code",
   "execution_count": 104,
   "id": "54df134a",
   "metadata": {},
   "outputs": [],
   "source": [
    "df[['total_floor', 'lift']] = df['max_floor'].str.split(pat='/', n=1 , expand=True )\n",
    "df = df.drop(['max_floor'], axis=1)"
   ]
  },
  {
   "cell_type": "code",
   "execution_count": 107,
   "id": "76f6dc1d",
   "metadata": {},
   "outputs": [],
   "source": [
    "df[['price', 'currency']] = df['price_eur'].str.split(pat=' €', n=1 , expand=True )"
   ]
  },
  {
   "cell_type": "code",
   "execution_count": 109,
   "id": "b7ffd10f",
   "metadata": {},
   "outputs": [],
   "source": [
    "df = df.drop(['price_eur'], axis=1)"
   ]
  },
  {
   "cell_type": "code",
   "execution_count": 115,
   "id": "1b303a01",
   "metadata": {},
   "outputs": [],
   "source": [
    "df['price']=df['price'].fillna('-1')"
   ]
  },
  {
   "cell_type": "code",
   "execution_count": 116,
   "id": "56652dfb",
   "metadata": {},
   "outputs": [],
   "source": [
    "df['price'] = df['price'].apply(lambda x: x.replace(' ',''))"
   ]
  },
  {
   "cell_type": "code",
   "execution_count": 118,
   "id": "ec7e4550",
   "metadata": {},
   "outputs": [],
   "source": [
    "df['lon'] = df['lon'].fillna('-1')\n",
    "df['len'] = df['len'].fillna('-1')\n",
    "\n",
    "df.loc[df['len']=='', 'len'] = '-1'\n",
    "df.loc[df['lon']=='', 'lon'] = '-1'"
   ]
  },
  {
   "cell_type": "code",
   "execution_count": 119,
   "id": "80556a60",
   "metadata": {},
   "outputs": [],
   "source": [
    "df['len'] = df['len'].apply(lambda x: x.replace(' ',''))\n",
    "df['lon'] = df['lon'].apply(lambda x: x.replace(' ',''))"
   ]
  },
  {
   "cell_type": "code",
   "execution_count": 120,
   "id": "23b6e683",
   "metadata": {},
   "outputs": [],
   "source": [
    "df = df[['district','data_street','rooms','area','price','cur_floor','total_floor', 'lift', 'seria','house_type','facilities','len','lon','all_data']]"
   ]
  },
  {
   "cell_type": "code",
   "execution_count": 124,
   "id": "84eb22d9",
   "metadata": {},
   "outputs": [],
   "source": [
    "df=df[df['rooms']!='Citi']"
   ]
  },
  {
   "cell_type": "code",
   "execution_count": 126,
   "id": "81940c2f",
   "metadata": {},
   "outputs": [],
   "source": [
    "df['cur_floor']=df['cur_floor'].replace('1.00', 1)"
   ]
  },
  {
   "cell_type": "code",
   "execution_count": 127,
   "id": "66931207",
   "metadata": {},
   "outputs": [],
   "source": [
    "df['rooms'] = df['rooms'].astype('int64')\n",
    "df['area'] = df['area'].astype('float64')\n",
    "df['price'] = df['price'].astype('int64')\n",
    "df['cur_floor'] = df['cur_floor'].astype('int64')\n",
    "df['total_floor'] = df['total_floor'].astype('int64')\n",
    "df['len'] = df['len'].astype('float64')\n",
    "df['lon'] = df['lon'].astype('float64')"
   ]
  },
  {
   "cell_type": "code",
   "execution_count": 128,
   "id": "31857318",
   "metadata": {},
   "outputs": [],
   "source": [
    "df_all_data = df['all_data']"
   ]
  },
  {
   "cell_type": "code",
   "execution_count": 129,
   "id": "da1168bc",
   "metadata": {},
   "outputs": [],
   "source": [
    "df = df.drop(['all_data'], axis=1)"
   ]
  },
  {
   "cell_type": "code",
   "execution_count": 130,
   "id": "509dc31f",
   "metadata": {},
   "outputs": [
    {
     "data": {
      "text/plain": [
       "array(['', 'Parkošanas vieta', 'Lodžija', 'Lodžija, Parkošanas vieta',\n",
       "       'Balkons', 'Balkons, Parkošanas vieta', 'Terase, Parkošanas vieta',\n",
       "       'Balkons, Lodžija, Parkošanas vieta', 'Balkons, Terase',\n",
       "       'Balkons, Terase, Parkošanas vieta', 'Balkons, Lodžija',\n",
       "       'Balkons, Lodžija, Terase', '01009162413', '01009206586',\n",
       "       'Balkons, Lodžija, Terase, Parkošanas vieta', 'Terase',\n",
       "       'Lodžija, Terase, Parkošanas vieta', '01009227150', 'Pirts',\n",
       "       '01009253495', '01009182346', '02009133230', '01009262288',\n",
       "       'Balkons, Pirts, Parkošanas vieta', '01000750010', 'Terase, Pirts',\n",
       "       '01009264745', '01009278620',\n",
       "       'Lodžija, Terase, Pirts, Parkošanas vieta', '01009102986',\n",
       "       '01009243991', '0100 904 5609', '01009279671', '01009155522',\n",
       "       '01009079976', 'Pirts, Parkošanas vieta', '01000120127',\n",
       "       '01000370040', '01009068028', 'Lodžija, Pirts, Parkošanas vieta',\n",
       "       '0100 906 8724', '01000200016001', '01000890172002062',\n",
       "       'Balkons, Terase, Pirts, Parkošanas vieta', '01009228207',\n",
       "       '0100 917 5958', '01000972071001026', '01009262660',\n",
       "       'Lodžija, Terase', '0100 995 3881', '1111111', '01009079623',\n",
       "       '01009273152', '01000730347',\n",
       "       'Balkons, Lodžija, Terase, Pirts, Parkošanas vieta',\n",
       "       '\\n | \\r\\n\\r\\nPārdod plašu vienistabas dzīvokli ar lielu lodžiju. Dzīvoklī nav nesošos sienu, kas ļauj viegli un bez liekām formalitātēm to pārplānost. Logi ir nomainīti. Dzīvoklis atdodas mājas vidusdaļā. Dzīvoklis atbrīvots un pieejams uzreiz. Zeme īpašumā. Pagalms pie mājas nobruģēts. Blakus skolas, veikali, sabiedriskais transports. Netālu Dreiliņkalns, kura apkārtnē ziemā tiek ierīkota slēpošanas trase.  | \\nПродается просторная однокомнатная квартира с большой лоджией. В квартире нет несущих стен, что позволяет легко и без лишних формальностей перепланировать ее. Окна заменены. Квартира расположена в средней части дома. Квартира освобождена и доступна немедленно. Земля в собственности. Двор возле дома вымощен. Рядом школы, магазины, общественный транспорт. Неподалеку находится Дрейлинькалнс, в окрестностях которого зимой прокладывают лыжню.  | \\nA spacious one-room apartment with a large loggia is for sale. The apartment has no bearing walls, which allows it to be replanned easily and without unnecessary formalities. The windows have been replaced. The apartment is located in the middle part of the house. The apartment is released and available immediately. Land owned. The yard near the house is paved. Close to schools, shops, public transport. Dreiliņkalns is nearby, in the vicinity of which a ski track is built in winter. | Pilsēta: | Rīga | Rajons: | Pļavnieki | Iela: | Ilūkstes 54 |   | [ | Karte | ] | Istabas: | 1 | Platība: | 39 m² | Stāvs: | 2/5 | Sērija: | M. ģim. | Cena: | 32 000 € (820.51 €/m²)',\n",
       "       '01000080037001010-01', 'Terase, Pirts, Parkošanas vieta',\n",
       "       '01009243597', 'Balkons, Lodžija, Pirts, Parkošanas vieta',\n",
       "       '01009254818', '01000110030001011', '01009267174',\n",
       "       '01000672020001 018', '01009142703', '01009068466', '01009208335',\n",
       "       'Lodžija, Pirts', '01009947869', '01000320062002042',\n",
       "       '01009107564', '777'], dtype=object)"
      ]
     },
     "execution_count": 130,
     "metadata": {},
     "output_type": "execute_result"
    }
   ],
   "source": [
    "df['facilities'].unique()"
   ]
  },
  {
   "cell_type": "code",
   "execution_count": 131,
   "id": "22bead24",
   "metadata": {},
   "outputs": [],
   "source": [
    "arr_facilities = ['Terase', 'Terase, Parkošanas vieta', 'Lodžija',\n",
    "       'Lodžija, Parkošanas vieta', 'Parkošanas vieta', 'Balkons',\n",
    "       'Balkons, Lodžija, Terase',\n",
    "       'Pirts, Parkošanas vieta', 'Balkons, Parkošanas vieta',\n",
    "       'Balkons, Lodžija', 'Balkons, Lodžija, Parkošanas vieta',\n",
    "       'Balkons, Lodžija, Terase, Parkošanas vieta',\n",
    "       'Balkons, Terase, Parkošanas vieta',\n",
    "       'Lodžija, Terase, Parkošanas vieta', 'Lodžija, Terase',\n",
    "       'Terase, Pirts']"
   ]
  },
  {
   "cell_type": "code",
   "execution_count": 132,
   "id": "12707e52",
   "metadata": {},
   "outputs": [],
   "source": [
    "df['lift'] = np.where(df['lift']=='lifts',1,0)"
   ]
  },
  {
   "cell_type": "code",
   "execution_count": 133,
   "id": "77067dcf",
   "metadata": {},
   "outputs": [],
   "source": [
    "df['facilities'] = np.where(df['facilities'].isin(arr_facilities),df['facilities'],'')"
   ]
  },
  {
   "cell_type": "code",
   "execution_count": 134,
   "id": "34465b26",
   "metadata": {},
   "outputs": [
    {
     "data": {
      "text/html": [
       "<div>\n",
       "<style scoped>\n",
       "    .dataframe tbody tr th:only-of-type {\n",
       "        vertical-align: middle;\n",
       "    }\n",
       "\n",
       "    .dataframe tbody tr th {\n",
       "        vertical-align: top;\n",
       "    }\n",
       "\n",
       "    .dataframe thead th {\n",
       "        text-align: right;\n",
       "    }\n",
       "</style>\n",
       "<table border=\"1\" class=\"dataframe\">\n",
       "  <thead>\n",
       "    <tr style=\"text-align: right;\">\n",
       "      <th></th>\n",
       "      <th>district</th>\n",
       "      <th>data_street</th>\n",
       "      <th>rooms</th>\n",
       "      <th>area</th>\n",
       "      <th>price</th>\n",
       "      <th>cur_floor</th>\n",
       "      <th>total_floor</th>\n",
       "      <th>lift</th>\n",
       "      <th>seria</th>\n",
       "      <th>house_type</th>\n",
       "      <th>facilities</th>\n",
       "      <th>len</th>\n",
       "      <th>lon</th>\n",
       "    </tr>\n",
       "  </thead>\n",
       "  <tbody>\n",
       "    <tr>\n",
       "      <th>0</th>\n",
       "      <td>centrs</td>\n",
       "      <td>Matīsa 41</td>\n",
       "      <td>4</td>\n",
       "      <td>100.0</td>\n",
       "      <td>190000</td>\n",
       "      <td>4</td>\n",
       "      <td>6</td>\n",
       "      <td>0</td>\n",
       "      <td>P. kara</td>\n",
       "      <td>Mūra</td>\n",
       "      <td></td>\n",
       "      <td>56.955810</td>\n",
       "      <td>24.136336</td>\n",
       "    </tr>\n",
       "    <tr>\n",
       "      <th>1</th>\n",
       "      <td>Āgenskalns</td>\n",
       "      <td>Baldones 10</td>\n",
       "      <td>2</td>\n",
       "      <td>56.0</td>\n",
       "      <td>36400</td>\n",
       "      <td>1</td>\n",
       "      <td>2</td>\n",
       "      <td>0</td>\n",
       "      <td>P. kara</td>\n",
       "      <td>Koka</td>\n",
       "      <td>Parkošanas vieta</td>\n",
       "      <td>56.948678</td>\n",
       "      <td>24.063496</td>\n",
       "    </tr>\n",
       "    <tr>\n",
       "      <th>2</th>\n",
       "      <td>Vecmīlgrāvis</td>\n",
       "      <td>Ledus 2</td>\n",
       "      <td>3</td>\n",
       "      <td>63.0</td>\n",
       "      <td>53000</td>\n",
       "      <td>1</td>\n",
       "      <td>9</td>\n",
       "      <td>1</td>\n",
       "      <td>602.</td>\n",
       "      <td>Paneļu</td>\n",
       "      <td>Lodžija</td>\n",
       "      <td>57.037709</td>\n",
       "      <td>24.095287</td>\n",
       "    </tr>\n",
       "    <tr>\n",
       "      <th>3</th>\n",
       "      <td>Iļģuciems</td>\n",
       "      <td>Lilijas 14</td>\n",
       "      <td>2</td>\n",
       "      <td>58.0</td>\n",
       "      <td>31500</td>\n",
       "      <td>2</td>\n",
       "      <td>2</td>\n",
       "      <td>0</td>\n",
       "      <td>P. kara</td>\n",
       "      <td>Koka</td>\n",
       "      <td></td>\n",
       "      <td>56.965051</td>\n",
       "      <td>24.064370</td>\n",
       "    </tr>\n",
       "    <tr>\n",
       "      <th>4</th>\n",
       "      <td>Imanta</td>\n",
       "      <td>Zentenes 18</td>\n",
       "      <td>2</td>\n",
       "      <td>50.0</td>\n",
       "      <td>53900</td>\n",
       "      <td>9</td>\n",
       "      <td>9</td>\n",
       "      <td>1</td>\n",
       "      <td>602.</td>\n",
       "      <td>Paneļu</td>\n",
       "      <td></td>\n",
       "      <td>56.961812</td>\n",
       "      <td>24.003519</td>\n",
       "    </tr>\n",
       "  </tbody>\n",
       "</table>\n",
       "</div>"
      ],
      "text/plain": [
       "       district  data_street  rooms   area   price  cur_floor  total_floor  \\\n",
       "0        centrs    Matīsa 41      4  100.0  190000          4            6   \n",
       "1    Āgenskalns  Baldones 10      2   56.0   36400          1            2   \n",
       "2  Vecmīlgrāvis      Ledus 2      3   63.0   53000          1            9   \n",
       "3     Iļģuciems   Lilijas 14      2   58.0   31500          2            2   \n",
       "4        Imanta  Zentenes 18      2   50.0   53900          9            9   \n",
       "\n",
       "   lift    seria house_type        facilities        len        lon  \n",
       "0     0  P. kara       Mūra                    56.955810  24.136336  \n",
       "1     0  P. kara       Koka  Parkošanas vieta  56.948678  24.063496  \n",
       "2     1     602.     Paneļu           Lodžija  57.037709  24.095287  \n",
       "3     0  P. kara       Koka                    56.965051  24.064370  \n",
       "4     1     602.     Paneļu                    56.961812  24.003519  "
      ]
     },
     "execution_count": 134,
     "metadata": {},
     "output_type": "execute_result"
    }
   ],
   "source": [
    "df.head()"
   ]
  },
  {
   "cell_type": "code",
   "execution_count": 135,
   "id": "5d159fbc",
   "metadata": {},
   "outputs": [
    {
     "data": {
      "text/plain": [
       "9693"
      ]
     },
     "execution_count": 135,
     "metadata": {},
     "output_type": "execute_result"
    }
   ],
   "source": [
    "len(df)"
   ]
  },
  {
   "cell_type": "code",
   "execution_count": 136,
   "id": "f7492751",
   "metadata": {},
   "outputs": [],
   "source": [
    "df=df.drop_duplicates()"
   ]
  },
  {
   "cell_type": "code",
   "execution_count": 137,
   "id": "f0f1ed42",
   "metadata": {},
   "outputs": [
    {
     "data": {
      "text/plain": [
       "3357"
      ]
     },
     "execution_count": 137,
     "metadata": {},
     "output_type": "execute_result"
    }
   ],
   "source": [
    "len(df)"
   ]
  },
  {
   "cell_type": "code",
   "execution_count": 138,
   "id": "cde76e2e",
   "metadata": {},
   "outputs": [
    {
     "data": {
      "text/html": [
       "<div>\n",
       "<style scoped>\n",
       "    .dataframe tbody tr th:only-of-type {\n",
       "        vertical-align: middle;\n",
       "    }\n",
       "\n",
       "    .dataframe tbody tr th {\n",
       "        vertical-align: top;\n",
       "    }\n",
       "\n",
       "    .dataframe thead th {\n",
       "        text-align: right;\n",
       "    }\n",
       "</style>\n",
       "<table border=\"1\" class=\"dataframe\">\n",
       "  <thead>\n",
       "    <tr style=\"text-align: right;\">\n",
       "      <th></th>\n",
       "      <th>district</th>\n",
       "      <th>data_street</th>\n",
       "      <th>rooms</th>\n",
       "      <th>area</th>\n",
       "      <th>price</th>\n",
       "      <th>cur_floor</th>\n",
       "      <th>total_floor</th>\n",
       "      <th>lift</th>\n",
       "      <th>seria</th>\n",
       "      <th>house_type</th>\n",
       "      <th>facilities</th>\n",
       "      <th>len</th>\n",
       "      <th>lon</th>\n",
       "    </tr>\n",
       "  </thead>\n",
       "  <tbody>\n",
       "    <tr>\n",
       "      <th>0</th>\n",
       "      <td>centrs</td>\n",
       "      <td>Matīsa 41</td>\n",
       "      <td>4</td>\n",
       "      <td>100.0</td>\n",
       "      <td>190000</td>\n",
       "      <td>4</td>\n",
       "      <td>6</td>\n",
       "      <td>0</td>\n",
       "      <td>P. kara</td>\n",
       "      <td>Mūra</td>\n",
       "      <td></td>\n",
       "      <td>56.955810</td>\n",
       "      <td>24.136336</td>\n",
       "    </tr>\n",
       "    <tr>\n",
       "      <th>1</th>\n",
       "      <td>Āgenskalns</td>\n",
       "      <td>Baldones 10</td>\n",
       "      <td>2</td>\n",
       "      <td>56.0</td>\n",
       "      <td>36400</td>\n",
       "      <td>1</td>\n",
       "      <td>2</td>\n",
       "      <td>0</td>\n",
       "      <td>P. kara</td>\n",
       "      <td>Koka</td>\n",
       "      <td>Parkošanas vieta</td>\n",
       "      <td>56.948678</td>\n",
       "      <td>24.063496</td>\n",
       "    </tr>\n",
       "    <tr>\n",
       "      <th>2</th>\n",
       "      <td>Vecmīlgrāvis</td>\n",
       "      <td>Ledus 2</td>\n",
       "      <td>3</td>\n",
       "      <td>63.0</td>\n",
       "      <td>53000</td>\n",
       "      <td>1</td>\n",
       "      <td>9</td>\n",
       "      <td>1</td>\n",
       "      <td>602.</td>\n",
       "      <td>Paneļu</td>\n",
       "      <td>Lodžija</td>\n",
       "      <td>57.037709</td>\n",
       "      <td>24.095287</td>\n",
       "    </tr>\n",
       "    <tr>\n",
       "      <th>3</th>\n",
       "      <td>Iļģuciems</td>\n",
       "      <td>Lilijas 14</td>\n",
       "      <td>2</td>\n",
       "      <td>58.0</td>\n",
       "      <td>31500</td>\n",
       "      <td>2</td>\n",
       "      <td>2</td>\n",
       "      <td>0</td>\n",
       "      <td>P. kara</td>\n",
       "      <td>Koka</td>\n",
       "      <td></td>\n",
       "      <td>56.965051</td>\n",
       "      <td>24.064370</td>\n",
       "    </tr>\n",
       "    <tr>\n",
       "      <th>4</th>\n",
       "      <td>Imanta</td>\n",
       "      <td>Zentenes 18</td>\n",
       "      <td>2</td>\n",
       "      <td>50.0</td>\n",
       "      <td>53900</td>\n",
       "      <td>9</td>\n",
       "      <td>9</td>\n",
       "      <td>1</td>\n",
       "      <td>602.</td>\n",
       "      <td>Paneļu</td>\n",
       "      <td></td>\n",
       "      <td>56.961812</td>\n",
       "      <td>24.003519</td>\n",
       "    </tr>\n",
       "  </tbody>\n",
       "</table>\n",
       "</div>"
      ],
      "text/plain": [
       "       district  data_street  rooms   area   price  cur_floor  total_floor  \\\n",
       "0        centrs    Matīsa 41      4  100.0  190000          4            6   \n",
       "1    Āgenskalns  Baldones 10      2   56.0   36400          1            2   \n",
       "2  Vecmīlgrāvis      Ledus 2      3   63.0   53000          1            9   \n",
       "3     Iļģuciems   Lilijas 14      2   58.0   31500          2            2   \n",
       "4        Imanta  Zentenes 18      2   50.0   53900          9            9   \n",
       "\n",
       "   lift    seria house_type        facilities        len        lon  \n",
       "0     0  P. kara       Mūra                    56.955810  24.136336  \n",
       "1     0  P. kara       Koka  Parkošanas vieta  56.948678  24.063496  \n",
       "2     1     602.     Paneļu           Lodžija  57.037709  24.095287  \n",
       "3     0  P. kara       Koka                    56.965051  24.064370  \n",
       "4     1     602.     Paneļu                    56.961812  24.003519  "
      ]
     },
     "execution_count": 138,
     "metadata": {},
     "output_type": "execute_result"
    }
   ],
   "source": [
    "df.head()"
   ]
  },
  {
   "cell_type": "code",
   "execution_count": 140,
   "id": "425462a2",
   "metadata": {},
   "outputs": [],
   "source": [
    "df.to_csv('df_for_sale_riga_11102023.csv',index=False)"
   ]
  },
  {
   "cell_type": "code",
   "execution_count": null,
   "id": "3775b2ff",
   "metadata": {},
   "outputs": [],
   "source": []
  }
 ],
 "metadata": {
  "kernelspec": {
   "display_name": "Python 3",
   "language": "python",
   "name": "python3"
  },
  "language_info": {
   "codemirror_mode": {
    "name": "ipython",
    "version": 3
   },
   "file_extension": ".py",
   "mimetype": "text/x-python",
   "name": "python",
   "nbconvert_exporter": "python",
   "pygments_lexer": "ipython3",
   "version": "3.8.8"
  }
 },
 "nbformat": 4,
 "nbformat_minor": 5
}
