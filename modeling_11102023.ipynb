{
 "cells": [
  {
   "cell_type": "markdown",
   "id": "68fde9f7",
   "metadata": {},
   "source": [
    "# 1 Data preparation"
   ]
  },
  {
   "cell_type": "code",
   "execution_count": 224,
   "id": "5d6c8a19",
   "metadata": {},
   "outputs": [],
   "source": [
    "import pandas as pd\n",
    "import math\n",
    "import numpy as np\n",
    "import matplotlib\n",
    "import matplotlib.pyplot as plt\n",
    "import seaborn as sns\n",
    "import warnings\n",
    "import folium\n",
    "warnings.filterwarnings(\"ignore\")\n",
    "from sklearn.tree import DecisionTreeClassifier\n",
    "from math import radians, sin, cos, sqrt, atan2\n",
    "from geopy.distance import great_circle\n",
    "from sklearn.model_selection import train_test_split"
   ]
  },
  {
   "cell_type": "code",
   "execution_count": 225,
   "id": "23b79373",
   "metadata": {},
   "outputs": [],
   "source": [
    "df=pd.read_csv('amended data.csv')"
   ]
  },
  {
   "cell_type": "code",
   "execution_count": 226,
   "id": "cc056337",
   "metadata": {},
   "outputs": [
    {
     "name": "stdout",
     "output_type": "stream",
     "text": [
      "64000.0\n"
     ]
    }
   ],
   "source": [
    "median=df['price'].median()\n",
    "print(df['price'].median())"
   ]
  },
  {
   "cell_type": "code",
   "execution_count": 227,
   "id": "2a5453ea",
   "metadata": {},
   "outputs": [],
   "source": [
    "df.loc[df['price']>median,'price_class']=1\n",
    "df.loc[df['price']<=median,'price_class']=0"
   ]
  },
  {
   "cell_type": "code",
   "execution_count": 228,
   "id": "6fe7ba46",
   "metadata": {},
   "outputs": [
    {
     "ename": "KeyError",
     "evalue": "'Daugava_bank'",
     "output_type": "error",
     "traceback": [
      "\u001b[1;31m---------------------------------------------------------------------------\u001b[0m",
      "\u001b[1;31mKeyError\u001b[0m                                  Traceback (most recent call last)",
      "\u001b[1;32mC:\\ProgramData\\Anaconda3\\lib\\site-packages\\pandas\\core\\indexes\\base.py\u001b[0m in \u001b[0;36mget_loc\u001b[1;34m(self, key, method, tolerance)\u001b[0m\n\u001b[0;32m   3079\u001b[0m             \u001b[1;32mtry\u001b[0m\u001b[1;33m:\u001b[0m\u001b[1;33m\u001b[0m\u001b[1;33m\u001b[0m\u001b[0m\n\u001b[1;32m-> 3080\u001b[1;33m                 \u001b[1;32mreturn\u001b[0m \u001b[0mself\u001b[0m\u001b[1;33m.\u001b[0m\u001b[0m_engine\u001b[0m\u001b[1;33m.\u001b[0m\u001b[0mget_loc\u001b[0m\u001b[1;33m(\u001b[0m\u001b[0mcasted_key\u001b[0m\u001b[1;33m)\u001b[0m\u001b[1;33m\u001b[0m\u001b[1;33m\u001b[0m\u001b[0m\n\u001b[0m\u001b[0;32m   3081\u001b[0m             \u001b[1;32mexcept\u001b[0m \u001b[0mKeyError\u001b[0m \u001b[1;32mas\u001b[0m \u001b[0merr\u001b[0m\u001b[1;33m:\u001b[0m\u001b[1;33m\u001b[0m\u001b[1;33m\u001b[0m\u001b[0m\n",
      "\u001b[1;32mpandas\\_libs\\index.pyx\u001b[0m in \u001b[0;36mpandas._libs.index.IndexEngine.get_loc\u001b[1;34m()\u001b[0m\n",
      "\u001b[1;32mpandas\\_libs\\index.pyx\u001b[0m in \u001b[0;36mpandas._libs.index.IndexEngine.get_loc\u001b[1;34m()\u001b[0m\n",
      "\u001b[1;32mpandas\\_libs\\hashtable_class_helper.pxi\u001b[0m in \u001b[0;36mpandas._libs.hashtable.PyObjectHashTable.get_item\u001b[1;34m()\u001b[0m\n",
      "\u001b[1;32mpandas\\_libs\\hashtable_class_helper.pxi\u001b[0m in \u001b[0;36mpandas._libs.hashtable.PyObjectHashTable.get_item\u001b[1;34m()\u001b[0m\n",
      "\u001b[1;31mKeyError\u001b[0m: 'Daugava_bank'",
      "\nThe above exception was the direct cause of the following exception:\n",
      "\u001b[1;31mKeyError\u001b[0m                                  Traceback (most recent call last)",
      "\u001b[1;32m<ipython-input-228-de1f934e5a12>\u001b[0m in \u001b[0;36m<module>\u001b[1;34m\u001b[0m\n\u001b[0;32m      1\u001b[0m \u001b[1;31m# Make variable Daugava_bank a numemic one\u001b[0m\u001b[1;33m\u001b[0m\u001b[1;33m\u001b[0m\u001b[1;33m\u001b[0m\u001b[0m\n\u001b[0;32m      2\u001b[0m \u001b[0mmapping\u001b[0m\u001b[1;33m=\u001b[0m\u001b[1;33m{\u001b[0m\u001b[1;34m'right_bank'\u001b[0m\u001b[1;33m:\u001b[0m\u001b[1;36m1\u001b[0m\u001b[1;33m,\u001b[0m \u001b[1;34m'Pardaugava'\u001b[0m\u001b[1;33m:\u001b[0m\u001b[1;36m0\u001b[0m\u001b[1;33m}\u001b[0m\u001b[1;33m\u001b[0m\u001b[1;33m\u001b[0m\u001b[0m\n\u001b[1;32m----> 3\u001b[1;33m \u001b[0mdf\u001b[0m\u001b[1;33m[\u001b[0m\u001b[1;34m'Daugava_bank'\u001b[0m\u001b[1;33m]\u001b[0m\u001b[1;33m=\u001b[0m\u001b[0mdf\u001b[0m\u001b[1;33m[\u001b[0m\u001b[1;34m'Daugava_bank'\u001b[0m\u001b[1;33m]\u001b[0m\u001b[1;33m.\u001b[0m\u001b[0mmap\u001b[0m\u001b[1;33m(\u001b[0m\u001b[0mmapping\u001b[0m\u001b[1;33m)\u001b[0m\u001b[1;33m\u001b[0m\u001b[1;33m\u001b[0m\u001b[0m\n\u001b[0m\u001b[0;32m      4\u001b[0m \u001b[0mdf\u001b[0m\u001b[1;33m[\u001b[0m\u001b[1;34m'Daugava_bank'\u001b[0m\u001b[1;33m]\u001b[0m\u001b[1;33m.\u001b[0m\u001b[0munique\u001b[0m\u001b[1;33m(\u001b[0m\u001b[1;33m)\u001b[0m\u001b[1;33m\u001b[0m\u001b[1;33m\u001b[0m\u001b[0m\n",
      "\u001b[1;32mC:\\ProgramData\\Anaconda3\\lib\\site-packages\\pandas\\core\\frame.py\u001b[0m in \u001b[0;36m__getitem__\u001b[1;34m(self, key)\u001b[0m\n\u001b[0;32m   3022\u001b[0m             \u001b[1;32mif\u001b[0m \u001b[0mself\u001b[0m\u001b[1;33m.\u001b[0m\u001b[0mcolumns\u001b[0m\u001b[1;33m.\u001b[0m\u001b[0mnlevels\u001b[0m \u001b[1;33m>\u001b[0m \u001b[1;36m1\u001b[0m\u001b[1;33m:\u001b[0m\u001b[1;33m\u001b[0m\u001b[1;33m\u001b[0m\u001b[0m\n\u001b[0;32m   3023\u001b[0m                 \u001b[1;32mreturn\u001b[0m \u001b[0mself\u001b[0m\u001b[1;33m.\u001b[0m\u001b[0m_getitem_multilevel\u001b[0m\u001b[1;33m(\u001b[0m\u001b[0mkey\u001b[0m\u001b[1;33m)\u001b[0m\u001b[1;33m\u001b[0m\u001b[1;33m\u001b[0m\u001b[0m\n\u001b[1;32m-> 3024\u001b[1;33m             \u001b[0mindexer\u001b[0m \u001b[1;33m=\u001b[0m \u001b[0mself\u001b[0m\u001b[1;33m.\u001b[0m\u001b[0mcolumns\u001b[0m\u001b[1;33m.\u001b[0m\u001b[0mget_loc\u001b[0m\u001b[1;33m(\u001b[0m\u001b[0mkey\u001b[0m\u001b[1;33m)\u001b[0m\u001b[1;33m\u001b[0m\u001b[1;33m\u001b[0m\u001b[0m\n\u001b[0m\u001b[0;32m   3025\u001b[0m             \u001b[1;32mif\u001b[0m \u001b[0mis_integer\u001b[0m\u001b[1;33m(\u001b[0m\u001b[0mindexer\u001b[0m\u001b[1;33m)\u001b[0m\u001b[1;33m:\u001b[0m\u001b[1;33m\u001b[0m\u001b[1;33m\u001b[0m\u001b[0m\n\u001b[0;32m   3026\u001b[0m                 \u001b[0mindexer\u001b[0m \u001b[1;33m=\u001b[0m \u001b[1;33m[\u001b[0m\u001b[0mindexer\u001b[0m\u001b[1;33m]\u001b[0m\u001b[1;33m\u001b[0m\u001b[1;33m\u001b[0m\u001b[0m\n",
      "\u001b[1;32mC:\\ProgramData\\Anaconda3\\lib\\site-packages\\pandas\\core\\indexes\\base.py\u001b[0m in \u001b[0;36mget_loc\u001b[1;34m(self, key, method, tolerance)\u001b[0m\n\u001b[0;32m   3080\u001b[0m                 \u001b[1;32mreturn\u001b[0m \u001b[0mself\u001b[0m\u001b[1;33m.\u001b[0m\u001b[0m_engine\u001b[0m\u001b[1;33m.\u001b[0m\u001b[0mget_loc\u001b[0m\u001b[1;33m(\u001b[0m\u001b[0mcasted_key\u001b[0m\u001b[1;33m)\u001b[0m\u001b[1;33m\u001b[0m\u001b[1;33m\u001b[0m\u001b[0m\n\u001b[0;32m   3081\u001b[0m             \u001b[1;32mexcept\u001b[0m \u001b[0mKeyError\u001b[0m \u001b[1;32mas\u001b[0m \u001b[0merr\u001b[0m\u001b[1;33m:\u001b[0m\u001b[1;33m\u001b[0m\u001b[1;33m\u001b[0m\u001b[0m\n\u001b[1;32m-> 3082\u001b[1;33m                 \u001b[1;32mraise\u001b[0m \u001b[0mKeyError\u001b[0m\u001b[1;33m(\u001b[0m\u001b[0mkey\u001b[0m\u001b[1;33m)\u001b[0m \u001b[1;32mfrom\u001b[0m \u001b[0merr\u001b[0m\u001b[1;33m\u001b[0m\u001b[1;33m\u001b[0m\u001b[0m\n\u001b[0m\u001b[0;32m   3083\u001b[0m \u001b[1;33m\u001b[0m\u001b[0m\n\u001b[0;32m   3084\u001b[0m         \u001b[1;32mif\u001b[0m \u001b[0mtolerance\u001b[0m \u001b[1;32mis\u001b[0m \u001b[1;32mnot\u001b[0m \u001b[1;32mNone\u001b[0m\u001b[1;33m:\u001b[0m\u001b[1;33m\u001b[0m\u001b[1;33m\u001b[0m\u001b[0m\n",
      "\u001b[1;31mKeyError\u001b[0m: 'Daugava_bank'"
     ]
    }
   ],
   "source": [
    "# Make variable Daugava_bank a numemic one\n",
    "mapping={'right_bank':1, 'Pardaugava':0}\n",
    "df['Daugava_bank']=df['Daugava_bank'].map(mapping)\n",
    "df['Daugava_bank'].unique()"
   ]
  },
  {
   "cell_type": "markdown",
   "id": "0147f602",
   "metadata": {},
   "source": [
    "# 1.1 Create new binary variable - Is it Center?"
   ]
  },
  {
   "cell_type": "code",
   "execution_count": 229,
   "id": "b4be0a3f",
   "metadata": {},
   "outputs": [
    {
     "data": {
      "text/plain": [
       "array([1, 0], dtype=int64)"
      ]
     },
     "execution_count": 229,
     "metadata": {},
     "output_type": "execute_result"
    }
   ],
   "source": [
    "df['center']=df['district'].apply(lambda x:1 if x in ('centrs','Vecrīga')else 0)\n",
    "\n",
    "df['center'].unique()"
   ]
  },
  {
   "cell_type": "markdown",
   "id": "ac6b7000",
   "metadata": {},
   "source": [
    "# 1.2 Create a couple of binary variables from the field facilities"
   ]
  },
  {
   "cell_type": "code",
   "execution_count": 230,
   "id": "af859532",
   "metadata": {},
   "outputs": [
    {
     "name": "stdout",
     "output_type": "stream",
     "text": [
      "Parkošanas vieta                              650\n",
      "Lodžija                                       400\n",
      "Lodžija, Parkošanas vieta                     370\n",
      "Balkons                                       290\n",
      "Balkons, Parkošanas vieta                     232\n",
      "Terase, Parkošanas vieta                       76\n",
      "Terase                                         52\n",
      "Balkons, Lodžija, Parkošanas vieta             38\n",
      "Balkons, Lodžija, Terase, Parkošanas vieta     21\n",
      "Balkons, Terase, Parkošanas vieta              21\n",
      "Balkons, Lodžija                               15\n",
      "Lodžija, Terase, Parkošanas vieta               6\n",
      "Pirts, Parkošanas vieta                         5\n",
      "Lodžija, Terase                                 4\n",
      "Terase, Pirts                                   3\n",
      "Balkons, Lodžija, Terase                        1\n",
      "Name: facilities, dtype: int64\n"
     ]
    }
   ],
   "source": [
    "value_counts=df['facilities'].value_counts()\n",
    "print(value_counts)"
   ]
  },
  {
   "cell_type": "code",
   "execution_count": 231,
   "id": "77319cfa",
   "metadata": {},
   "outputs": [],
   "source": [
    "df['facilities']=df['facilities'].fillna('-1')"
   ]
  },
  {
   "cell_type": "code",
   "execution_count": 232,
   "id": "f6f52137",
   "metadata": {},
   "outputs": [],
   "source": [
    "def Parking(value):\n",
    "    return 1 if \"Parkošanas vieta\" in value else 0\n",
    "\n",
    "df['parking']= df['facilities'].apply(lambda x: Parking(x))"
   ]
  },
  {
   "cell_type": "code",
   "execution_count": 233,
   "id": "bef4decd",
   "metadata": {},
   "outputs": [],
   "source": [
    "def balcony(value):\n",
    "    if \"Balkons\" in value:\n",
    "        return 1\n",
    "    elif \"Lodžija\" in value:\n",
    "        return 1\n",
    "    elif \"Terase\" in value:\n",
    "        return 1\n",
    "    else:\n",
    "        return 0\n",
    "\n",
    "df['balcony']= df['facilities'].apply(lambda x: balcony(x))"
   ]
  },
  {
   "cell_type": "code",
   "execution_count": 234,
   "id": "59479a87",
   "metadata": {},
   "outputs": [],
   "source": [
    "df=df.rename(columns={'len':'lat'})"
   ]
  },
  {
   "cell_type": "code",
   "execution_count": 235,
   "id": "1aff5447",
   "metadata": {},
   "outputs": [
    {
     "name": "stdout",
     "output_type": "stream",
     "text": [
      "<class 'pandas.core.frame.DataFrame'>\n",
      "RangeIndex: 3356 entries, 0 to 3355\n",
      "Data columns (total 25 columns):\n",
      " #   Column               Non-Null Count  Dtype  \n",
      "---  ------               --------------  -----  \n",
      " 0   Unnamed: 0           3356 non-null   int64  \n",
      " 1   district             3356 non-null   object \n",
      " 2   data_street          3356 non-null   object \n",
      " 3   rooms                3356 non-null   int64  \n",
      " 4   area                 3356 non-null   float64\n",
      " 5   price                3356 non-null   int64  \n",
      " 6   cur_floor            3356 non-null   int64  \n",
      " 7   total_floor          3356 non-null   int64  \n",
      " 8   lift                 3356 non-null   int64  \n",
      " 9   seria                3356 non-null   object \n",
      " 10  house_type           3356 non-null   object \n",
      " 11  facilities           3356 non-null   object \n",
      " 12  lat                  3356 non-null   float64\n",
      " 13  lon                  3356 non-null   float64\n",
      " 14  price_per_sqm        3356 non-null   float64\n",
      " 15  floor                3356 non-null   int64  \n",
      " 16  house_seria_general  3356 non-null   object \n",
      " 17  floor_total          3356 non-null   object \n",
      " 18  street               3356 non-null   object \n",
      " 19  street_name          3356 non-null   object \n",
      " 20  street_number        3356 non-null   object \n",
      " 21  price_class          3356 non-null   float64\n",
      " 22  center               3356 non-null   int64  \n",
      " 23  parking              3356 non-null   int64  \n",
      " 24  balcony              3356 non-null   int64  \n",
      "dtypes: float64(5), int64(10), object(10)\n",
      "memory usage: 655.6+ KB\n"
     ]
    }
   ],
   "source": [
    "df.info()"
   ]
  },
  {
   "cell_type": "markdown",
   "id": "5b31c71c",
   "metadata": {},
   "source": [
    "# 1.3 Fill in missing coordinates (lat and lon)"
   ]
  },
  {
   "cell_type": "code",
   "execution_count": 236,
   "id": "41f8cc17",
   "metadata": {},
   "outputs": [
    {
     "name": "stdout",
     "output_type": "stream",
     "text": [
      "      Unnamed: 0 district              data_street  rooms  area   price  \\\n",
      "485          485     Cits             Lomonosova 2      1  22.0   25000   \n",
      "1400        1400     Cits              Dīķu iela 2      4  74.0   21850   \n",
      "1968        1968   Imanta  Anniņmuižas bulvāris 41      2  66.0  132000   \n",
      "\n",
      "      cur_floor  total_floor  lift    seria  ... floor house_seria_general  \\\n",
      "485           1            4     0  P. kara  ...     1  Pre_war_apartments   \n",
      "1400          3            3     0  Specpr.  ...     3   Serial_apartments   \n",
      "1968         23           24     1    Jaun.  ...    23        New_projects   \n",
      "\n",
      "      floor_total                  street          street_name  street_number  \\\n",
      "485         1 / 4            Lomonosova 2           Lomonosova              2   \n",
      "1400        3 / 3             Dīķu iela 2            Dīķu iela              2   \n",
      "1968      23 / 24  Anniņmuižasbulvāris 41  Anniņmuižasbulvāris             41   \n",
      "\n",
      "     price_class center parking balcony  \n",
      "485          0.0      0       0       0  \n",
      "1400         0.0      0       1       1  \n",
      "1968         1.0      0       0       0  \n",
      "\n",
      "[3 rows x 25 columns]\n"
     ]
    }
   ],
   "source": [
    "Properties_with_missing_coordinates=df[df['lon']==-1]\n",
    "print(Properties_with_missing_coordinates)"
   ]
  },
  {
   "cell_type": "code",
   "execution_count": 237,
   "id": "924f5908",
   "metadata": {},
   "outputs": [
    {
     "name": "stdout",
     "output_type": "stream",
     "text": [
      "           lat       lon\n",
      "485  56.938253  24.15602\n"
     ]
    }
   ],
   "source": [
    "row_index=485\n",
    "new_lat_1=56.938252644826655\n",
    "new_lon_1=24.156020097221585\n",
    "df.at[row_index,'lat']= new_lat_1\n",
    "df.at[row_index,'lon']= new_lon_1\n",
    "\n",
    "row=df.loc[df['Unnamed: 0']==485][['lat','lon']]\n",
    "print(row)"
   ]
  },
  {
   "cell_type": "code",
   "execution_count": 238,
   "id": "d347cc45",
   "metadata": {},
   "outputs": [
    {
     "name": "stdout",
     "output_type": "stream",
     "text": [
      "            lat        lon\n",
      "1400  56.919847  24.086959\n"
     ]
    }
   ],
   "source": [
    "row_index=1400\n",
    "new_lat_2=56.919847492216206\n",
    "new_lon_2=24.086959281878208\n",
    "df.at[row_index,'lat']= new_lat_2\n",
    "df.at[row_index,'lon']= new_lon_2\n",
    "\n",
    "row=df.loc[df['Unnamed: 0']==1400][['lat','lon']]\n",
    "print(row)"
   ]
  },
  {
   "cell_type": "code",
   "execution_count": 239,
   "id": "4ae21468",
   "metadata": {},
   "outputs": [
    {
     "name": "stdout",
     "output_type": "stream",
     "text": [
      "            lat        lon\n",
      "1986  56.916259  24.093464\n"
     ]
    }
   ],
   "source": [
    "row_index=1968\n",
    "new_lat_3=56.95920121755761\n",
    "new_lon_3=24.01384986838741\n",
    "df.at[row_index,'lat']= new_lat_3\n",
    "df.at[row_index,'lon']= new_lon_3\n",
    "\n",
    "row=df.loc[df['Unnamed: 0']==1986][['lat','lon']]\n",
    "print(row)"
   ]
  },
  {
   "cell_type": "code",
   "execution_count": 240,
   "id": "146bd95a",
   "metadata": {},
   "outputs": [
    {
     "ename": "PermissionError",
     "evalue": "[Errno 13] Permission denied: 'check.xlsx'",
     "output_type": "error",
     "traceback": [
      "\u001b[1;31m---------------------------------------------------------------------------\u001b[0m",
      "\u001b[1;31mPermissionError\u001b[0m                           Traceback (most recent call last)",
      "\u001b[1;32m<ipython-input-240-a39062e93721>\u001b[0m in \u001b[0;36m<module>\u001b[1;34m\u001b[0m\n\u001b[1;32m----> 1\u001b[1;33m \u001b[0mdf\u001b[0m\u001b[1;33m.\u001b[0m\u001b[0mto_excel\u001b[0m\u001b[1;33m(\u001b[0m\u001b[1;34m'check.xlsx'\u001b[0m\u001b[1;33m,\u001b[0m \u001b[0mindex\u001b[0m\u001b[1;33m=\u001b[0m\u001b[1;32mFalse\u001b[0m\u001b[1;33m)\u001b[0m\u001b[1;33m\u001b[0m\u001b[1;33m\u001b[0m\u001b[0m\n\u001b[0m",
      "\u001b[1;32mC:\\ProgramData\\Anaconda3\\lib\\site-packages\\pandas\\core\\generic.py\u001b[0m in \u001b[0;36mto_excel\u001b[1;34m(self, excel_writer, sheet_name, na_rep, float_format, columns, header, index, index_label, startrow, startcol, engine, merge_cells, encoding, inf_rep, verbose, freeze_panes, storage_options)\u001b[0m\n\u001b[0;32m   2187\u001b[0m             \u001b[0minf_rep\u001b[0m\u001b[1;33m=\u001b[0m\u001b[0minf_rep\u001b[0m\u001b[1;33m,\u001b[0m\u001b[1;33m\u001b[0m\u001b[1;33m\u001b[0m\u001b[0m\n\u001b[0;32m   2188\u001b[0m         )\n\u001b[1;32m-> 2189\u001b[1;33m         formatter.write(\n\u001b[0m\u001b[0;32m   2190\u001b[0m             \u001b[0mexcel_writer\u001b[0m\u001b[1;33m,\u001b[0m\u001b[1;33m\u001b[0m\u001b[1;33m\u001b[0m\u001b[0m\n\u001b[0;32m   2191\u001b[0m             \u001b[0msheet_name\u001b[0m\u001b[1;33m=\u001b[0m\u001b[0msheet_name\u001b[0m\u001b[1;33m,\u001b[0m\u001b[1;33m\u001b[0m\u001b[1;33m\u001b[0m\u001b[0m\n",
      "\u001b[1;32mC:\\ProgramData\\Anaconda3\\lib\\site-packages\\pandas\\io\\formats\\excel.py\u001b[0m in \u001b[0;36mwrite\u001b[1;34m(self, writer, sheet_name, startrow, startcol, freeze_panes, engine, storage_options)\u001b[0m\n\u001b[0;32m    813\u001b[0m             \u001b[1;31m# abstract class 'ExcelWriter' with abstract attributes 'engine',\u001b[0m\u001b[1;33m\u001b[0m\u001b[1;33m\u001b[0m\u001b[1;33m\u001b[0m\u001b[0m\n\u001b[0;32m    814\u001b[0m             \u001b[1;31m# 'save', 'supported_extensions' and 'write_cells'  [abstract]\u001b[0m\u001b[1;33m\u001b[0m\u001b[1;33m\u001b[0m\u001b[1;33m\u001b[0m\u001b[0m\n\u001b[1;32m--> 815\u001b[1;33m             writer = ExcelWriter(  # type: ignore[abstract]\n\u001b[0m\u001b[0;32m    816\u001b[0m                 \u001b[0mwriter\u001b[0m\u001b[1;33m,\u001b[0m \u001b[0mengine\u001b[0m\u001b[1;33m=\u001b[0m\u001b[0mengine\u001b[0m\u001b[1;33m,\u001b[0m \u001b[0mstorage_options\u001b[0m\u001b[1;33m=\u001b[0m\u001b[0mstorage_options\u001b[0m\u001b[1;33m\u001b[0m\u001b[1;33m\u001b[0m\u001b[0m\n\u001b[0;32m    817\u001b[0m             )\n",
      "\u001b[1;32mC:\\ProgramData\\Anaconda3\\lib\\site-packages\\pandas\\io\\excel\\_xlsxwriter.py\u001b[0m in \u001b[0;36m__init__\u001b[1;34m(self, path, engine, date_format, datetime_format, mode, storage_options, **engine_kwargs)\u001b[0m\n\u001b[0;32m    180\u001b[0m             \u001b[1;32mraise\u001b[0m \u001b[0mValueError\u001b[0m\u001b[1;33m(\u001b[0m\u001b[1;34m\"Append mode is not supported with xlsxwriter!\"\u001b[0m\u001b[1;33m)\u001b[0m\u001b[1;33m\u001b[0m\u001b[1;33m\u001b[0m\u001b[0m\n\u001b[0;32m    181\u001b[0m \u001b[1;33m\u001b[0m\u001b[0m\n\u001b[1;32m--> 182\u001b[1;33m         super().__init__(\n\u001b[0m\u001b[0;32m    183\u001b[0m             \u001b[0mpath\u001b[0m\u001b[1;33m,\u001b[0m\u001b[1;33m\u001b[0m\u001b[1;33m\u001b[0m\u001b[0m\n\u001b[0;32m    184\u001b[0m             \u001b[0mengine\u001b[0m\u001b[1;33m=\u001b[0m\u001b[0mengine\u001b[0m\u001b[1;33m,\u001b[0m\u001b[1;33m\u001b[0m\u001b[1;33m\u001b[0m\u001b[0m\n",
      "\u001b[1;32mC:\\ProgramData\\Anaconda3\\lib\\site-packages\\pandas\\io\\excel\\_base.py\u001b[0m in \u001b[0;36m__init__\u001b[1;34m(self, path, engine, date_format, datetime_format, mode, storage_options, **engine_kwargs)\u001b[0m\n\u001b[0;32m    808\u001b[0m         \u001b[0mself\u001b[0m\u001b[1;33m.\u001b[0m\u001b[0mhandles\u001b[0m \u001b[1;33m=\u001b[0m \u001b[0mIOHandles\u001b[0m\u001b[1;33m(\u001b[0m\u001b[0mcast\u001b[0m\u001b[1;33m(\u001b[0m\u001b[0mBuffer\u001b[0m\u001b[1;33m,\u001b[0m \u001b[0mpath\u001b[0m\u001b[1;33m)\u001b[0m\u001b[1;33m,\u001b[0m \u001b[0mcompression\u001b[0m\u001b[1;33m=\u001b[0m\u001b[1;33m{\u001b[0m\u001b[1;34m\"copression\"\u001b[0m\u001b[1;33m:\u001b[0m \u001b[1;32mNone\u001b[0m\u001b[1;33m}\u001b[0m\u001b[1;33m)\u001b[0m\u001b[1;33m\u001b[0m\u001b[1;33m\u001b[0m\u001b[0m\n\u001b[0;32m    809\u001b[0m         \u001b[1;32mif\u001b[0m \u001b[1;32mnot\u001b[0m \u001b[0misinstance\u001b[0m\u001b[1;33m(\u001b[0m\u001b[0mpath\u001b[0m\u001b[1;33m,\u001b[0m \u001b[0mExcelWriter\u001b[0m\u001b[1;33m)\u001b[0m\u001b[1;33m:\u001b[0m\u001b[1;33m\u001b[0m\u001b[1;33m\u001b[0m\u001b[0m\n\u001b[1;32m--> 810\u001b[1;33m             self.handles = get_handle(\n\u001b[0m\u001b[0;32m    811\u001b[0m                 \u001b[0mpath\u001b[0m\u001b[1;33m,\u001b[0m \u001b[0mmode\u001b[0m\u001b[1;33m,\u001b[0m \u001b[0mstorage_options\u001b[0m\u001b[1;33m=\u001b[0m\u001b[0mstorage_options\u001b[0m\u001b[1;33m,\u001b[0m \u001b[0mis_text\u001b[0m\u001b[1;33m=\u001b[0m\u001b[1;32mFalse\u001b[0m\u001b[1;33m\u001b[0m\u001b[1;33m\u001b[0m\u001b[0m\n\u001b[0;32m    812\u001b[0m             )\n",
      "\u001b[1;32mC:\\ProgramData\\Anaconda3\\lib\\site-packages\\pandas\\io\\common.py\u001b[0m in \u001b[0;36mget_handle\u001b[1;34m(path_or_buf, mode, encoding, compression, memory_map, is_text, errors, storage_options)\u001b[0m\n\u001b[0;32m    649\u001b[0m         \u001b[1;32melse\u001b[0m\u001b[1;33m:\u001b[0m\u001b[1;33m\u001b[0m\u001b[1;33m\u001b[0m\u001b[0m\n\u001b[0;32m    650\u001b[0m             \u001b[1;31m# Binary mode\u001b[0m\u001b[1;33m\u001b[0m\u001b[1;33m\u001b[0m\u001b[1;33m\u001b[0m\u001b[0m\n\u001b[1;32m--> 651\u001b[1;33m             \u001b[0mhandle\u001b[0m \u001b[1;33m=\u001b[0m \u001b[0mopen\u001b[0m\u001b[1;33m(\u001b[0m\u001b[0mhandle\u001b[0m\u001b[1;33m,\u001b[0m \u001b[0mioargs\u001b[0m\u001b[1;33m.\u001b[0m\u001b[0mmode\u001b[0m\u001b[1;33m)\u001b[0m\u001b[1;33m\u001b[0m\u001b[1;33m\u001b[0m\u001b[0m\n\u001b[0m\u001b[0;32m    652\u001b[0m         \u001b[0mhandles\u001b[0m\u001b[1;33m.\u001b[0m\u001b[0mappend\u001b[0m\u001b[1;33m(\u001b[0m\u001b[0mhandle\u001b[0m\u001b[1;33m)\u001b[0m\u001b[1;33m\u001b[0m\u001b[1;33m\u001b[0m\u001b[0m\n\u001b[0;32m    653\u001b[0m \u001b[1;33m\u001b[0m\u001b[0m\n",
      "\u001b[1;31mPermissionError\u001b[0m: [Errno 13] Permission denied: 'check.xlsx'"
     ]
    }
   ],
   "source": [
    "df.to_excel('check.xlsx', index=False)"
   ]
  },
  {
   "cell_type": "markdown",
   "id": "01372dde",
   "metadata": {},
   "source": [
    "# 1.4 Drop non-numeric variables"
   ]
  },
  {
   "cell_type": "code",
   "execution_count": 241,
   "id": "43c652d6",
   "metadata": {},
   "outputs": [],
   "source": [
    "df=df.drop(['Unnamed: 0','district', 'street','data_street', 'seria','house_type','facilities','price_per_sqm','house_seria_general','floor_total','street_name','street_number', 'rooms'],axis=1)"
   ]
  },
  {
   "cell_type": "code",
   "execution_count": 242,
   "id": "01062404",
   "metadata": {},
   "outputs": [
    {
     "name": "stdout",
     "output_type": "stream",
     "text": [
      "<class 'pandas.core.frame.DataFrame'>\n",
      "RangeIndex: 3356 entries, 0 to 3355\n",
      "Data columns (total 12 columns):\n",
      " #   Column       Non-Null Count  Dtype  \n",
      "---  ------       --------------  -----  \n",
      " 0   area         3356 non-null   float64\n",
      " 1   price        3356 non-null   int64  \n",
      " 2   cur_floor    3356 non-null   int64  \n",
      " 3   total_floor  3356 non-null   int64  \n",
      " 4   lift         3356 non-null   int64  \n",
      " 5   lat          3356 non-null   float64\n",
      " 6   lon          3356 non-null   float64\n",
      " 7   floor        3356 non-null   int64  \n",
      " 8   price_class  3356 non-null   float64\n",
      " 9   center       3356 non-null   int64  \n",
      " 10  parking      3356 non-null   int64  \n",
      " 11  balcony      3356 non-null   int64  \n",
      "dtypes: float64(4), int64(8)\n",
      "memory usage: 314.8 KB\n"
     ]
    }
   ],
   "source": [
    "df.info()"
   ]
  },
  {
   "cell_type": "markdown",
   "id": "03c3c2db",
   "metadata": {},
   "source": [
    "# 2 Decision tree model versions"
   ]
  },
  {
   "cell_type": "markdown",
   "id": "980a0a9c",
   "metadata": {},
   "source": [
    "# 2.1 Test model version 1"
   ]
  },
  {
   "cell_type": "markdown",
   "id": "95834088",
   "metadata": {},
   "source": [
    "# 2.1.2 Split df into training and validation sets"
   ]
  },
  {
   "cell_type": "code",
   "execution_count": 243,
   "id": "42f55d1c",
   "metadata": {},
   "outputs": [],
   "source": [
    "df_train, df_valid=train_test_split(df,test_size=0.25,random_state=11111)"
   ]
  },
  {
   "cell_type": "code",
   "execution_count": 244,
   "id": "e3f1aaa1",
   "metadata": {},
   "outputs": [],
   "source": [
    "features_train=df_train.drop(['price', 'price_class'], axis=1)\n",
    "target_train=df_train['price_class']\n",
    "\n",
    "features_valid=df_valid.drop(['price', 'price_class'], axis=1)\n",
    "target_valid=df_valid['price_class']"
   ]
  },
  {
   "cell_type": "code",
   "execution_count": 245,
   "id": "db8ed187",
   "metadata": {},
   "outputs": [
    {
     "name": "stdout",
     "output_type": "stream",
     "text": [
      "(2517, 10)\n",
      "(2517,)\n"
     ]
    }
   ],
   "source": [
    "print(features_train.shape)\n",
    "print(target_train.shape)"
   ]
  },
  {
   "cell_type": "code",
   "execution_count": 246,
   "id": "6da2848b",
   "metadata": {},
   "outputs": [
    {
     "name": "stdout",
     "output_type": "stream",
     "text": [
      "(839, 10)\n",
      "(839,)\n"
     ]
    }
   ],
   "source": [
    "print(features_valid.shape)\n",
    "print(target_valid.shape)"
   ]
  },
  {
   "cell_type": "markdown",
   "id": "77e647dc",
   "metadata": {},
   "source": [
    "# 2.1.3 Get accuracy for model version 1"
   ]
  },
  {
   "cell_type": "code",
   "execution_count": 247,
   "id": "24b4f20a",
   "metadata": {},
   "outputs": [],
   "source": [
    "model = DecisionTreeClassifier(random_state=11111)\n",
    " \n",
    "model.fit(features_train, target_train)\n",
    "\n",
    "predictions = model.predict(features_valid)"
   ]
  },
  {
   "cell_type": "code",
   "execution_count": 248,
   "id": "56f1a392",
   "metadata": {},
   "outputs": [
    {
     "data": {
      "text/plain": [
       "0.865315852205006"
      ]
     },
     "execution_count": 248,
     "metadata": {},
     "output_type": "execute_result"
    }
   ],
   "source": [
    "from sklearn.metrics import accuracy_score \n",
    "accuracy = accuracy_score(target_valid, predictions) \n",
    "accuracy"
   ]
  },
  {
   "cell_type": "markdown",
   "id": "17eecf6c",
   "metadata": {},
   "source": [
    "# 2.2 Test model version 2"
   ]
  },
  {
   "cell_type": "markdown",
   "id": "7436ccde",
   "metadata": {},
   "source": [
    "# 2.2.1 Calculate new variable - distance from center"
   ]
  },
  {
   "cell_type": "code",
   "execution_count": 249,
   "id": "ed5e1838",
   "metadata": {},
   "outputs": [
    {
     "data": {
      "image/png": "[encoded data removed]",
      "text/plain": [
       "<Figure size 720x432 with 1 Axes>"
      ]
     },
     "metadata": {
      "needs_background": "light"
     },
     "output_type": "display_data"
    }
   ],
   "source": [
    "plt.figure(figsize = (10, 6))\n",
    "ax = sns.scatterplot(x = 'lon', y = 'lat', data = df, hue = None, alpha=0.4)\n",
    "plt.show()"
   ]
  },
  {
   "cell_type": "code",
   "execution_count": 250,
   "id": "4094b0da",
   "metadata": {},
   "outputs": [],
   "source": [
    "# Define the central point as a tuple of (latitude, longitude)\n",
    "central_point = (56.951599754910994, 24.113290094982993)  # Note that order is (lat, lon)\n",
    "\n",
    "# Define a function to calculate the distance\n",
    "def calculate_distance(row):\n",
    "   obj_point = (row['lat'], row['lon'])\n",
    "   return great_circle(central_point, obj_point).km\n",
    "\n",
    "# Apply the function to create a new column 'distance_to_center_km'\n",
    "df['distance_to_center_km'] = df.apply(calculate_distance, axis=1)"
   ]
  },
  {
   "cell_type": "code",
   "execution_count": 251,
   "id": "2d0afed3",
   "metadata": {},
   "outputs": [
    {
     "data": {
      "text/plain": [
       "count    3356.000000\n",
       "mean        4.541350\n",
       "std         2.592722\n",
       "min         0.164168\n",
       "25%         2.280484\n",
       "50%         4.402195\n",
       "75%         6.133299\n",
       "max        13.920236\n",
       "Name: distance_to_center_km, dtype: float64"
      ]
     },
     "execution_count": 251,
     "metadata": {},
     "output_type": "execute_result"
    }
   ],
   "source": [
    "df['distance_to_center_km'].describe()"
   ]
  },
  {
   "cell_type": "markdown",
   "id": "6c7b2447",
   "metadata": {},
   "source": [
    "# 2.2.2  Split df into training and validation sets"
   ]
  },
  {
   "cell_type": "code",
   "execution_count": 252,
   "id": "83d269ad",
   "metadata": {},
   "outputs": [],
   "source": [
    "df_train, df_valid=train_test_split(df,test_size=0.25,random_state=11111)\n",
    "\n",
    "features_train=df_train.drop(['price', 'price_class'], axis=1)\n",
    "target_train=df_train['price_class']\n",
    "\n",
    "features_valid=df_valid.drop(['price', 'price_class'], axis=1)\n",
    "target_valid=df_valid['price_class']"
   ]
  },
  {
   "cell_type": "markdown",
   "id": "e0116aca",
   "metadata": {},
   "source": [
    "# 2.2.3 Get accuracy for model version 2"
   ]
  },
  {
   "cell_type": "code",
   "execution_count": 253,
   "id": "f42ed17b",
   "metadata": {},
   "outputs": [],
   "source": [
    "model = DecisionTreeClassifier(random_state=11111)\n",
    " \n",
    "model.fit(features_train, target_train)\n",
    "\n",
    "predictions = model.predict(features_valid)"
   ]
  },
  {
   "cell_type": "code",
   "execution_count": 254,
   "id": "563d95f8",
   "metadata": {},
   "outputs": [
    {
     "data": {
      "text/plain": [
       "0.8545887961859356"
      ]
     },
     "execution_count": 254,
     "metadata": {},
     "output_type": "execute_result"
    }
   ],
   "source": [
    "from sklearn.metrics import accuracy_score \n",
    "accuracy = accuracy_score(target_valid, predictions) \n",
    "accuracy"
   ]
  },
  {
   "cell_type": "markdown",
   "id": "0bcaee86",
   "metadata": {},
   "source": [
    "# 2.3 Test model version 3"
   ]
  },
  {
   "cell_type": "markdown",
   "id": "4614310d",
   "metadata": {},
   "source": [
    "# 2.3.1 Add new variable - Distance from airport"
   ]
  },
  {
   "cell_type": "code",
   "execution_count": 255,
   "id": "07086b0d",
   "metadata": {},
   "outputs": [],
   "source": [
    "# Define the central point as a tuple of (latitude, longitude)\n",
    "central_point = (56.92200101647137, 23.97974797600975)  # Note that order is (lat, lon)\n",
    "\n",
    "# Define a function to calculate the distance\n",
    "def calculate_distance(row):\n",
    "   obj_point = (row['lat'], row['lon'])\n",
    "   return great_circle(central_point, obj_point).km\n",
    "\n",
    "# Apply the function to create a new column 'distance_to_center_km'\n",
    "df['distance_to_airport_km'] = df.apply(calculate_distance, axis=1)"
   ]
  },
  {
   "cell_type": "code",
   "execution_count": 256,
   "id": "997f370b",
   "metadata": {},
   "outputs": [
    {
     "data": {
      "text/plain": [
       "count    3356.000000\n",
       "mean       10.677960\n",
       "std         3.568868\n",
       "min         2.543634\n",
       "25%         8.188713\n",
       "50%        10.811472\n",
       "75%        13.426344\n",
       "max        20.869786\n",
       "Name: distance_to_airport_km, dtype: float64"
      ]
     },
     "execution_count": 256,
     "metadata": {},
     "output_type": "execute_result"
    }
   ],
   "source": [
    "df['distance_to_airport_km'].describe()"
   ]
  },
  {
   "cell_type": "markdown",
   "id": "7c99c853",
   "metadata": {},
   "source": [
    "# 2.3.2 Split df into training and validation sets"
   ]
  },
  {
   "cell_type": "code",
   "execution_count": 257,
   "id": "c9c30998",
   "metadata": {},
   "outputs": [],
   "source": [
    "df_train, df_valid=train_test_split(df,test_size=0.25,random_state=11111)\n",
    "\n",
    "features_train=df_train.drop(['price', 'price_class'], axis=1)\n",
    "target_train=df_train['price_class']\n",
    "\n",
    "features_valid=df_valid.drop(['price', 'price_class'], axis=1)\n",
    "target_valid=df_valid['price_class']"
   ]
  },
  {
   "cell_type": "markdown",
   "id": "58bbb71c",
   "metadata": {},
   "source": [
    "# 2.3.3 Get accuracy for model version 3"
   ]
  },
  {
   "cell_type": "code",
   "execution_count": 258,
   "id": "6d0346e7",
   "metadata": {},
   "outputs": [],
   "source": [
    "model = DecisionTreeClassifier(random_state=11111)\n",
    " \n",
    "model.fit(features_train, target_train)\n",
    "\n",
    "predictions = model.predict(features_valid)"
   ]
  },
  {
   "cell_type": "code",
   "execution_count": 259,
   "id": "8b500f91",
   "metadata": {},
   "outputs": [
    {
     "data": {
      "text/plain": [
       "0.8617401668653158"
      ]
     },
     "execution_count": 259,
     "metadata": {},
     "output_type": "execute_result"
    }
   ],
   "source": [
    "from sklearn.metrics import accuracy_score \n",
    "accuracy = accuracy_score(target_valid, predictions) \n",
    "accuracy"
   ]
  },
  {
   "cell_type": "markdown",
   "id": "9540d907",
   "metadata": {},
   "source": [
    "# 2.4 Changing hyperparameters"
   ]
  },
  {
   "cell_type": "code",
   "execution_count": 260,
   "id": "faa501cf",
   "metadata": {},
   "outputs": [
    {
     "name": "stdout",
     "output_type": "stream",
     "text": [
      "max_depth = 1 : 0.799761620977354\n",
      "max_depth = 2 : 0.8355184743742551\n",
      "max_depth = 3 : 0.8426698450536353\n",
      "max_depth = 4 : 0.8557806912991657\n",
      "max_depth = 5 : 0.8510131108462455\n",
      "max_depth = 6 : 0.865315852205006\n",
      "max_depth = 7 : 0.8605482717520858\n",
      "max_depth = 8 : 0.8605482717520858\n",
      "max_depth = 9 : 0.8569725864123957\n",
      "max_depth = 10 : 0.8557806912991657\n",
      "max_depth = 11 : 0.8569725864123957\n",
      "max_depth = 12 : 0.8533969010727056\n",
      "max_depth = 13 : 0.8617401668653158\n",
      "max_depth = 14 : 0.8617401668653158\n",
      "max_depth = 15 : 0.8569725864123957\n",
      "max_depth = 16 : 0.8569725864123957\n",
      "max_depth = 17 : 0.8533969010727056\n",
      "max_depth = 18 : 0.8617401668653158\n",
      "max_depth = 19 : 0.8581644815256257\n",
      "max_depth = 20 : 0.867699642431466\n",
      "max_depth = 21 : 0.8617401668653158\n",
      "max_depth = 22 : 0.8617401668653158\n",
      "max_depth = 23 : 0.8617401668653158\n",
      "\n",
      "best result : 0.867699642431466\n"
     ]
    }
   ],
   "source": [
    "accuracy_array = []\n",
    "best_model = None\n",
    "best_result = 0\n",
    "\n",
    "for depth in range(1, 24):\n",
    "    model = DecisionTreeClassifier(random_state=11111, max_depth=depth)\n",
    "    model.fit(features_train, target_train)\n",
    "    \n",
    "    predictions_valid = model.predict(features_valid)\n",
    "    result = accuracy_score(target_valid, predictions_valid)\n",
    "\n",
    "    if result > best_result:\n",
    "        best_result = result\n",
    "        \n",
    "    print('max_depth =', depth,': ', end='')\n",
    "    print(result)\n",
    "\n",
    "    accuracy_array.append([depth, result])\n",
    "    \n",
    "df_ac = pd.DataFrame(accuracy_array, columns=['depth', 'accuracy'])\n",
    "print('')\n",
    "print('best result :', best_result)"
   ]
  },
  {
   "cell_type": "code",
   "execution_count": 261,
   "id": "80c59fa9",
   "metadata": {},
   "outputs": [
    {
     "data": {
      "image/png": "[encoded data removed]",
      "text/plain": [
       "<Figure size 432x288 with 1 Axes>"
      ]
     },
     "metadata": {
      "needs_background": "light"
     },
     "output_type": "display_data"
    }
   ],
   "source": [
    "plt = sns.lineplot(data=df_ac, x=\"depth\", y=\"accuracy\")\n",
    "plt.grid()"
   ]
  },
  {
   "cell_type": "markdown",
   "id": "0ddb67dc",
   "metadata": {},
   "source": [
    "# 3 Other model types"
   ]
  },
  {
   "cell_type": "markdown",
   "id": "afdf91ff",
   "metadata": {},
   "source": [
    "# 3.1 Random forest"
   ]
  },
  {
   "cell_type": "code",
   "execution_count": 262,
   "id": "93dbc6a0",
   "metadata": {},
   "outputs": [],
   "source": [
    "from sklearn.ensemble import RandomForestClassifier "
   ]
  },
  {
   "cell_type": "code",
   "execution_count": 263,
   "id": "c313090d",
   "metadata": {},
   "outputs": [],
   "source": [
    "model = RandomForestClassifier(random_state=11111, n_estimators=3)"
   ]
  },
  {
   "cell_type": "code",
   "execution_count": 264,
   "id": "8ca5ab00",
   "metadata": {},
   "outputs": [
    {
     "data": {
      "text/plain": [
       "RandomForestClassifier(n_estimators=3, random_state=11111)"
      ]
     },
     "execution_count": 264,
     "metadata": {},
     "output_type": "execute_result"
    }
   ],
   "source": [
    "model.fit(features_train, target_train) "
   ]
  },
  {
   "cell_type": "code",
   "execution_count": 265,
   "id": "0c9022af",
   "metadata": {},
   "outputs": [
    {
     "name": "stdout",
     "output_type": "stream",
     "text": [
      "0.8688915375446961\n"
     ]
    }
   ],
   "source": [
    "result = model.score(features_valid, target_valid) \n",
    "print(result)"
   ]
  },
  {
   "cell_type": "code",
   "execution_count": 266,
   "id": "6f366452",
   "metadata": {},
   "outputs": [],
   "source": [
    "from tqdm.notebook import tqdm"
   ]
  },
  {
   "cell_type": "code",
   "execution_count": 267,
   "id": "454ebb88",
   "metadata": {},
   "outputs": [
    {
     "data": {
      "application/vnd.jupyter.widget-view+json": {
       "model_id": "2e5fdfff19b34caaaacc01cd5c0b34f3",
       "version_major": 2,
       "version_minor": 0
      },
      "text/plain": [
       "  0%|          | 0/17 [00:00<?, ?it/s]"
      ]
     },
     "metadata": {},
     "output_type": "display_data"
    },
    {
     "name": "stdout",
     "output_type": "stream",
     "text": [
      "Accuracy наилучшей модели на валидационной выборке: 0.8903456495828367\n",
      "\n",
      "best_depth = 17\n",
      "best_est = 14\n"
     ]
    }
   ],
   "source": [
    "best_model = None\n",
    "best_result = 0\n",
    "\n",
    "for est in tqdm(range(1, 18)):\n",
    "    for depth in range(1, 18): \n",
    "        model = RandomForestClassifier(random_state=12345, n_estimators=est, max_depth=depth) \n",
    "        model.fit(features_train, target_train) \n",
    "        result = model.score(features_valid, target_valid) \n",
    "        if result > best_result:\n",
    "            best_depth = depth\n",
    "            best_est = est\n",
    "            best_model = model\n",
    "            best_result = result\n",
    "print(\"Accuracy наилучшей модели на валидационной выборке:\", best_result)\n",
    "\n",
    "print('')\n",
    "print('best_depth =', best_depth)\n",
    "print('best_est =', best_est)"
   ]
  },
  {
   "cell_type": "markdown",
   "id": "52b9da76",
   "metadata": {},
   "source": [
    "# 3.2 Logistic regression"
   ]
  },
  {
   "cell_type": "code",
   "execution_count": 268,
   "id": "0295c23a",
   "metadata": {},
   "outputs": [],
   "source": [
    "from sklearn.linear_model import LogisticRegression "
   ]
  },
  {
   "cell_type": "code",
   "execution_count": 269,
   "id": "034ea1da",
   "metadata": {},
   "outputs": [
    {
     "name": "stdout",
     "output_type": "stream",
     "text": [
      "result : 0.8581644815256257\n"
     ]
    }
   ],
   "source": [
    "#liblinear\n",
    "#lbfgs\n",
    "iterat = 1000\n",
    "model = LogisticRegression(solver='liblinear', max_iter=iterat) \n",
    "model.fit(features_train, target_train) \n",
    "\n",
    "result = model.score(features_valid, target_valid)\n",
    "    \n",
    "print('result :', result)   "
   ]
  },
  {
   "cell_type": "markdown",
   "id": "9fbb2dd7",
   "metadata": {},
   "source": [
    "# Conclusion: Random forest provides the best accuracy vs Decision tree and Logistic regression"
   ]
  },
  {
   "cell_type": "markdown",
   "id": "a2b42cc4",
   "metadata": {},
   "source": [
    "# 3.3 Regression"
   ]
  },
  {
   "cell_type": "code",
   "execution_count": 270,
   "id": "0b7b3503",
   "metadata": {},
   "outputs": [],
   "source": [
    "from sklearn.metrics import mean_squared_error "
   ]
  },
  {
   "cell_type": "code",
   "execution_count": 272,
   "id": "3ba2db76",
   "metadata": {},
   "outputs": [],
   "source": [
    "df=pd.read_excel('check.xlsx')"
   ]
  },
  {
   "cell_type": "code",
   "execution_count": 273,
   "id": "7220bca0",
   "metadata": {},
   "outputs": [],
   "source": [
    "# Define the central point as a tuple of (latitude, longitude)\n",
    "central_point = (56.951599754910994, 24.113290094982993)  # Note that order is (lat, lon)\n",
    "\n",
    "# Define a function to calculate the distance\n",
    "def calculate_distance(row):\n",
    "   obj_point = (row['lat'], row['lon'])\n",
    "   return great_circle(central_point, obj_point).km\n",
    "\n",
    "# Apply the function to create a new column 'distance_to_center_km'\n",
    "df['distance_to_center_km'] = df.apply(calculate_distance, axis=1)"
   ]
  },
  {
   "cell_type": "code",
   "execution_count": 274,
   "id": "cd80e6ce",
   "metadata": {},
   "outputs": [],
   "source": [
    "# Define the central point as a tuple of (latitude, longitude)\n",
    "central_point = (56.92200101647137, 23.97974797600975)  # Note that order is (lat, lon)\n",
    "\n",
    "# Define a function to calculate the distance\n",
    "def calculate_distance(row):\n",
    "   obj_point = (row['lat'], row['lon'])\n",
    "   return great_circle(central_point, obj_point).km\n",
    "\n",
    "# Apply the function to create a new column 'distance_to_center_km'\n",
    "df['distance_to_airport_km'] = df.apply(calculate_distance, axis=1)"
   ]
  },
  {
   "cell_type": "code",
   "execution_count": 275,
   "id": "b1523bfb",
   "metadata": {},
   "outputs": [],
   "source": [
    "df=df.drop(['Unnamed: 0','district', 'street','data_street', 'seria','house_type','facilities','price_per_sqm','house_seria_general','floor_total','street_name','street_number', 'rooms'],axis=1)"
   ]
  },
  {
   "cell_type": "code",
   "execution_count": 276,
   "id": "3c550b5e",
   "metadata": {},
   "outputs": [],
   "source": [
    "df_train, df_valid=train_test_split(df,test_size=0.25,random_state=11111)\n",
    "\n",
    "features_train=df_train.drop(['price'], axis=1)\n",
    "target_train=df_train['price']\n",
    "\n",
    "features_valid=df_valid.drop(['price'], axis=1)\n",
    "target_valid=df_valid['price']"
   ]
  },
  {
   "cell_type": "markdown",
   "id": "9496a18e",
   "metadata": {},
   "source": [
    "# 3.4 Decision tree in regression"
   ]
  },
  {
   "cell_type": "code",
   "execution_count": 277,
   "id": "2fb68f32",
   "metadata": {},
   "outputs": [],
   "source": [
    "from sklearn.tree import DecisionTreeRegressor"
   ]
  },
  {
   "cell_type": "code",
   "execution_count": 278,
   "id": "5279a97d",
   "metadata": {},
   "outputs": [
    {
     "name": "stdout",
     "output_type": "stream",
     "text": [
      "RMSE best model on the validation set: 80.9681400288584\n"
     ]
    }
   ],
   "source": [
    "best_model = None\n",
    "best_result = 9999999999999999999999\n",
    "for depth in range(1, 24):\n",
    "    model = DecisionTreeRegressor(random_state=11111, max_depth=depth)\n",
    "    model.fit(features_train, target_train)\n",
    "    predictions_valid = model.predict(features_valid)\n",
    "    \n",
    "    result = mean_squared_error(target_valid, predictions_valid)**0.5 \n",
    "    if result < best_result:\n",
    "        best_model = model\n",
    "        best_result = result/1000\n",
    "\n",
    "print(\"RMSE best model on the validation set:\", best_result)"
   ]
  },
  {
   "cell_type": "markdown",
   "id": "299bc85e",
   "metadata": {},
   "source": [
    "# 3.5 Random forest in regression"
   ]
  },
  {
   "cell_type": "code",
   "execution_count": 279,
   "id": "a808e1bf",
   "metadata": {},
   "outputs": [],
   "source": [
    "from sklearn.ensemble import RandomForestRegressor"
   ]
  },
  {
   "cell_type": "code",
   "execution_count": 280,
   "id": "fd7e32c3",
   "metadata": {},
   "outputs": [
    {
     "data": {
      "application/vnd.jupyter.widget-view+json": {
       "model_id": "fad259416d8d4ca59875c8f5863fc9b2",
       "version_major": 2,
       "version_minor": 0
      },
      "text/plain": [
       "  0%|          | 0/5 [00:00<?, ?it/s]"
      ]
     },
     "metadata": {},
     "output_type": "display_data"
    },
    {
     "name": "stdout",
     "output_type": "stream",
     "text": [
      "RMSE best model on the validation set: 79.48895140530398\n"
     ]
    }
   ],
   "source": [
    "best_model = None\n",
    "best_result = 9999999999999999999999\n",
    "\n",
    "for est in tqdm(range(10, 51, 10)):\n",
    "    for depth in range (1, 11):\n",
    "        model = RandomForestRegressor(random_state=11111, n_estimators=est, max_depth=depth)\n",
    "        model.fit(features_train, target_train) \n",
    "        predictions_valid = model.predict(features_valid) \n",
    "        result = mean_squared_error(target_valid, predictions_valid)**0.5 \n",
    "        if result < best_result:\n",
    "            best_model = model\n",
    "            best_result = result/1000\n",
    "\n",
    "print(\"RMSE best model on the validation set:\", best_result)"
   ]
  },
  {
   "cell_type": "markdown",
   "id": "367d6e7b",
   "metadata": {},
   "source": [
    "# 3.6 Linear regression"
   ]
  },
  {
   "cell_type": "code",
   "execution_count": 281,
   "id": "ad4b118c",
   "metadata": {},
   "outputs": [],
   "source": [
    "from sklearn.linear_model import LinearRegression"
   ]
  },
  {
   "cell_type": "code",
   "execution_count": 282,
   "id": "65c4362e",
   "metadata": {},
   "outputs": [
    {
     "name": "stdout",
     "output_type": "stream",
     "text": [
      "RMSE best model on the validation set: 66.32449949394402\n"
     ]
    }
   ],
   "source": [
    "model = LinearRegression()\n",
    "model.fit(features_train, target_train) \n",
    "predictions_valid = model.predict(features_valid) \n",
    "\n",
    "result = mean_squared_error(target_valid, predictions_valid)**0.5 /1000\n",
    "print(\"RMSE best model on the validation set:\", result)"
   ]
  },
  {
   "cell_type": "markdown",
   "id": "4527e622",
   "metadata": {},
   "source": [
    "# Conclusion: Linear regression has the lowest RMSE vs Decision tree in regression and Random forest in regression"
   ]
  }
 ],
 "metadata": {
  "kernelspec": {
   "display_name": "Python 3",
   "language": "python",
   "name": "python3"
  },
  "language_info": {
   "codemirror_mode": {
    "name": "ipython",
    "version": 3
   },
   "file_extension": ".py",
   "mimetype": "text/x-python",
   "name": "python",
   "nbconvert_exporter": "python",
   "pygments_lexer": "ipython3",
   "version": "3.8.8"
  }
 },
 "nbformat": 4,
 "nbformat_minor": 5
}
